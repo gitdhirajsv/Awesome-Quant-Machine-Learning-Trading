{
  "metadata": {
    "kernelspec": {
      "language": "python",
      "display_name": "Python 3",
      "name": "python3"
    },
    "language_info": {
      "name": "python",
      "version": "3.10.12",
      "mimetype": "text/x-python",
      "codemirror_mode": {
        "name": "ipython",
        "version": 3
      },
      "pygments_lexer": "ipython3",
      "nbconvert_exporter": "python",
      "file_extension": ".py"
    },
    "kaggle": {
      "accelerator": "gpu",
      "dataSources": [
        {
          "sourceId": 4016023,
          "sourceType": "datasetVersion",
          "datasetId": 903972
        }
      ],
      "dockerImageVersionId": 30626,
      "isInternetEnabled": true,
      "language": "python",
      "sourceType": "notebook",
      "isGpuEnabled": true
    },
    "colab": {
      "name": "GPTPythonNotes57b",
      "provenance": [],
      "include_colab_link": true
    }
  },
  "nbformat_minor": 0,
  "nbformat": 4,
  "cells": [
    {
      "cell_type": "markdown",
      "metadata": {
        "id": "view-in-github",
        "colab_type": "text"
      },
      "source": [
        "<a href=\"https://colab.research.google.com/github/gitdhirajsv/Awesome-Quant-Machine-Learning-Trading/blob/master/GPTPythonNotes57b.ipynb\" target=\"_parent\"><img src=\"https://colab.research.google.com/assets/colab-badge.svg\" alt=\"Open In Colab\"/></a>"
      ]
    },
    {
      "source": [
        "# IMPORTANT: RUN THIS CELL IN ORDER TO IMPORT YOUR KAGGLE DATA SOURCES,\n",
        "# THEN FEEL FREE TO DELETE THIS CELL.\n",
        "# NOTE: THIS NOTEBOOK ENVIRONMENT DIFFERS FROM KAGGLE'S PYTHON\n",
        "# ENVIRONMENT SO THERE MAY BE MISSING LIBRARIES USED BY YOUR\n",
        "# NOTEBOOK.\n",
        "import kagglehub\n",
        "olgabelitskaya_python_recipes_path = kagglehub.dataset_download('olgabelitskaya/python-recipes')\n",
        "\n",
        "print('Data source import complete.')\n"
      ],
      "metadata": {
        "id": "xjhMj6O5BFAW"
      },
      "cell_type": "code",
      "outputs": [],
      "execution_count": null
    },
    {
      "cell_type": "markdown",
      "source": [
        "# 57b. Introduction to data science.\n",
        "# Data manipulations with Python modules\n",
        "\n",
        "# 57b. Introducción a la ciencia de datos.\n",
        "# Manipulaciones de datos con módulos de Python\n",
        "\n",
        "- [NumPy documentation](https://numpy.org/doc/stable/)\n",
        "- [pandas documentation](https://pandas.pydata.org/docs/)\n",
        "- [polars API reference](https://pola-rs.github.io/polars/py-polars/html/reference/index.html)\n",
        "- [datatable User Guide](https://datatable.readthedocs.io/en/latest/manual/index-manual.html#user-guide)\n",
        "- [modin Usage Guide](https://modin.readthedocs.io/en/stable/usage_guide/index.html)\n",
        "- [Vaex docs](https://vaex.io/docs/index.html)\n",
        "- [CuPy](https://docs.cupy.dev/en/stable/)"
      ],
      "metadata": {
        "id": "yP_amGVUBFAW"
      }
    },
    {
      "cell_type": "code",
      "source": [
        "import polars as po, pandas as pd, numpy as np\n",
        "import random, datetime, pylab as pl, plotly.express as px\n",
        "po.show_versions()"
      ],
      "metadata": {
        "_uuid": "8f2839f25d086af736a60e9eeb907d3b93b6e0e5",
        "_cell_guid": "b1076dfc-b9ad-4769-8c92-a6c4dae69d19",
        "_kg_hide-output": true,
        "execution": {
          "iopub.status.busy": "2024-01-05T22:11:51.328958Z",
          "iopub.execute_input": "2024-01-05T22:11:51.329294Z",
          "iopub.status.idle": "2024-01-05T22:11:53.624996Z",
          "shell.execute_reply.started": "2024-01-05T22:11:51.329264Z",
          "shell.execute_reply": "2024-01-05T22:11:53.624031Z"
        },
        "trusted": true,
        "id": "b5WOfmJ4BFAX"
      },
      "execution_count": null,
      "outputs": []
    },
    {
      "cell_type": "code",
      "source": [
        "%%writefile example.csv\n",
        "id,name,position,department,age,gender,salary,start_date,email,phone\n",
        "f01,John Smith,HR Manager,Human Resources,35,Male,60000,2015-03-15,john.smith@example.com,123-456-7890\n",
        "f02,Emily Johnson,Marketing Specialist,Marketing,28,Female,45000,2017-09-22,emily.johnson@example.com,234-567-8901\n",
        "f03,Michael Williams,Software Engineer,Engineering,30,Male,75000,2018-01-10,michael.williams@example.com,345-678-9012\n",
        "f04,Sophia Brown,Financial Analyst,Finance,32,Female,58000,2016-05-18,sophia.brown@example.com,456-789-0123\n",
        "f05,William Jones,Sales Representative,Sales,29,Male,48000,2019-11-04,william.jones@example.com,567-890-1234\n",
        "f06,Olivia Davis,Administrative Assistant,Admin,26,Female,38000,2020-07-12,olivia.davis@example.com,678-901-2345\n",
        "f07,Alexander Miller,Marketing Manager,Marketing,38,Male,68000,2014-02-28,alexander.miller@example.com,789-012-3456\n",
        "f08,Mia Wilson,Network Administrator,IT,33,Female,65000,2017-08-05,mia.wilson@example.com,890-123-4567\n",
        "f09,Daniel Taylor,Accountant,Finance,31,Male,55000,2019-03-25,daniel.taylor@example.com,901-234-5678\n",
        "f10,Isabella Moore,Project Manager,Project Management,34,Female,70000,2016-11-15,isabella.moore@example.com,012-345-6789\n",
        "f11,Ethan Anderson,Software Developer,Engineering,27,Male,60000,2018-04-30,ethan.anderson@example.com,123-456-7890\n",
        "f12,Chloe Lee,HR Coordinator,Human Resources,29,Female,42000,2020-06-08,chloe.lee@example.com,234-567-8901\n",
        "f13,James Garcia,Sales Manager,Sales,37,Male,72000,2015-09-14,james.garcia@example.com,345-678-9012\n",
        "f14,Natalie Rodriguez,Data Analyst,IT,31,Female,56000,2017-02-12,natalie.rodriguez@example.com,456-789-0123\n",
        "f15,Andrew Martinez,Operations Manager,Operations,36,Male,69000,2016-03-20,andrew.martinez@example.com,567-890-1234\n",
        "f16,Grace Hernandez,Executive Assistant,Admin,27,Female,45000,2019-08-10,grace.hernandez@example.com,678-901-2345\n",
        "f17,Lucas Gonzales,Quality Assurance Specialist,Engineering,29,Male,52000,2018-12-04,lucas.gonzales@example.com,789-012-3456\n",
        "f18,Avery Perez,Financial Manager,Finance,40,Female,80000,2013-06-18,avery.perez@example.com,890-123-4567\n",
        "f19,Henry Turner,Customer Service Representative,Customer Service,25,Male,40000,2020-11-30,henry.turner@example.com,901-234-5678\n",
        "f20,Samantha Scott,Marketing Coordinator,Marketing,31,Female,48000,2017-04-15,samantha.scott@example.com,012-345-6789"
      ],
      "metadata": {
        "_kg_hide-input": true,
        "execution": {
          "iopub.status.busy": "2024-01-05T22:11:53.626533Z",
          "iopub.execute_input": "2024-01-05T22:11:53.626994Z",
          "iopub.status.idle": "2024-01-05T22:11:53.635351Z",
          "shell.execute_reply.started": "2024-01-05T22:11:53.626964Z",
          "shell.execute_reply": "2024-01-05T22:11:53.634221Z"
        },
        "trusted": true,
        "id": "cW05uZgvBFAY"
      },
      "execution_count": null,
      "outputs": []
    },
    {
      "cell_type": "markdown",
      "source": [
        "## `polars` & `pandas`"
      ],
      "metadata": {
        "id": "6GLVFgguBFAY"
      }
    },
    {
      "cell_type": "code",
      "source": [
        "example_po = po.read_csv('example.csv',try_parse_dates=True)\\\n",
        ".with_columns(po.col('age').cast(po.Int32))\n",
        "example_po.head(3)"
      ],
      "metadata": {
        "execution": {
          "iopub.status.busy": "2024-01-05T22:11:53.636815Z",
          "iopub.execute_input": "2024-01-05T22:11:53.637153Z",
          "iopub.status.idle": "2024-01-05T22:11:53.75446Z",
          "shell.execute_reply.started": "2024-01-05T22:11:53.637115Z",
          "shell.execute_reply": "2024-01-05T22:11:53.753302Z"
        },
        "trusted": true,
        "id": "zw_sNgAYBFAY"
      },
      "execution_count": null,
      "outputs": []
    },
    {
      "cell_type": "code",
      "source": [
        "example_pd = pd.read_csv('example.csv', parse_dates=True)\n",
        "example_pd['age'] = example_pd['age'].astype('int32')\n",
        "display(example_pd.head(3))\n",
        "example_pd.info()"
      ],
      "metadata": {
        "execution": {
          "iopub.status.busy": "2024-01-05T22:11:53.758464Z",
          "iopub.execute_input": "2024-01-05T22:11:53.758805Z",
          "iopub.status.idle": "2024-01-05T22:11:53.808954Z",
          "shell.execute_reply.started": "2024-01-05T22:11:53.758763Z",
          "shell.execute_reply": "2024-01-05T22:11:53.807862Z"
        },
        "trusted": true,
        "id": "fhJhH-NsBFAY"
      },
      "execution_count": null,
      "outputs": []
    },
    {
      "cell_type": "code",
      "source": [
        "sample_po = po.scan_csv(\"example.csv\")\\\n",
        ".select([\"name\", \"age\", \"gender\", \"salary\"])\\\n",
        ".filter(po.col(\"age\") > 30).fetch(10)\n",
        "sample_po"
      ],
      "metadata": {
        "execution": {
          "iopub.status.busy": "2024-01-05T22:11:53.810287Z",
          "iopub.execute_input": "2024-01-05T22:11:53.810622Z",
          "iopub.status.idle": "2024-01-05T22:11:53.839343Z",
          "shell.execute_reply.started": "2024-01-05T22:11:53.810591Z",
          "shell.execute_reply": "2024-01-05T22:11:53.838361Z"
        },
        "trusted": true,
        "id": "v_OsTEzmBFAY"
      },
      "execution_count": null,
      "outputs": []
    },
    {
      "cell_type": "code",
      "source": [
        "sample_pd = pd.read_csv(\"example.csv\")[[\"name\", \"age\", \"gender\", \"salary\"]]\n",
        "sample_pd = sample_pd[sample_pd['age'] > 30].head(10)\n",
        "sample_pd"
      ],
      "metadata": {
        "execution": {
          "iopub.status.busy": "2024-01-05T22:11:53.840603Z",
          "iopub.execute_input": "2024-01-05T22:11:53.840909Z",
          "iopub.status.idle": "2024-01-05T22:11:53.86077Z",
          "shell.execute_reply.started": "2024-01-05T22:11:53.840882Z",
          "shell.execute_reply": "2024-01-05T22:11:53.859563Z"
        },
        "trusted": true,
        "id": "lzzl4qiLBFAY"
      },
      "execution_count": null,
      "outputs": []
    },
    {
      "cell_type": "code",
      "source": [
        "example_dict = {\"wOrDs_ID\": [1, 2, 3, 4, 5],\n",
        "                \"SenTEnCe\": [\"this\", \"is\", \"hard\", \"to\", \"read\"]}\n",
        "example_dict_po = po.DataFrame(example_dict)\n",
        "example_dict_po.write_csv('example_dict.csv')\n",
        "po.scan_csv(\n",
        "    'example_dict.csv',\n",
        "    with_column_names=lambda cols: [col.lower() for col in cols]\n",
        ").collect()"
      ],
      "metadata": {
        "execution": {
          "iopub.status.busy": "2024-01-05T22:11:53.862277Z",
          "iopub.execute_input": "2024-01-05T22:11:53.862706Z",
          "iopub.status.idle": "2024-01-05T22:11:53.884482Z",
          "shell.execute_reply.started": "2024-01-05T22:11:53.862666Z",
          "shell.execute_reply": "2024-01-05T22:11:53.883529Z"
        },
        "trusted": true,
        "id": "6PCJihYXBFAZ"
      },
      "execution_count": null,
      "outputs": []
    },
    {
      "cell_type": "code",
      "source": [
        "example_dict_pd = pd.DataFrame(example_dict)\n",
        "example_dict_pd.to_csv('example_dict.csv', index=False)\n",
        "example_dict_pd = pd.read_csv(\n",
        "    'example_dict.csv', header=0,\n",
        "    names=[col.lower() for col in example_dict_pd.columns])\n",
        "example_dict_pd"
      ],
      "metadata": {
        "execution": {
          "iopub.status.busy": "2024-01-05T22:11:53.885991Z",
          "iopub.execute_input": "2024-01-05T22:11:53.886616Z",
          "iopub.status.idle": "2024-01-05T22:11:53.902285Z",
          "shell.execute_reply.started": "2024-01-05T22:11:53.886578Z",
          "shell.execute_reply": "2024-01-05T22:11:53.901322Z"
        },
        "trusted": true,
        "id": "PkwUwFyjBFAZ"
      },
      "execution_count": null,
      "outputs": []
    },
    {
      "cell_type": "markdown",
      "source": [
        "Objects of `polars` || Objetos de `polars`"
      ],
      "metadata": {
        "id": "Qe1Z_3CxBFAZ"
      }
    },
    {
      "cell_type": "code",
      "source": [
        "# this function creates random examples\n",
        "# esta función crea ejemplos aleatorios\n",
        "randi = {\n",
        "    'int': lambda: random.randint(0, 100),\n",
        "    'float': lambda: random.uniform(0, 100),\n",
        "    'chr': lambda: random.choices('abcdefghijklmnopqrstuvwxyz')[0],\n",
        "    'int_list': lambda: random.sample(range(100), random.randint(1, 10)),\n",
        "    'int_tuple': lambda: tuple(random.sample(range(100), random.randint(1, 10))),\n",
        "    'float_list': lambda: [round(random.uniform(0, 100), 2)\n",
        "                           for _ in range(random.randint(1, 10))],\n",
        "    'bool': lambda: random.choice([True, False]),\n",
        "    'none': lambda: None,\n",
        "    'date': lambda: str(datetime.date(1970, 1, 1) +\n",
        "                        datetime.timedelta(random.randint(1, 60*365))),\n",
        "    'numpy_nan': lambda: np.nan,\n",
        "    'numpy_int64': lambda: np.int64(random.randint(0, 100)),\n",
        "    'numpy_float64': lambda: np.float64(random.uniform(0, 100)),\n",
        "    'polars_null': lambda: po.Null,\n",
        "    'polars_unknown': lambda: po.Unknown,\n",
        "}\n",
        "def random_list(start=3, end=10, random_dict=randi, seed=12, choice=None):\n",
        "    random.seed(seed)\n",
        "    if choice == None:\n",
        "        choice = list(random_dict.keys())\n",
        "    elif not isinstance(choice, list):\n",
        "        choice = [choice]\n",
        "    return [random_dict[random.choice(choice)]()\n",
        "            for _ in range(random.randint(start, end))]"
      ],
      "metadata": {
        "execution": {
          "iopub.status.busy": "2024-01-05T22:11:53.903564Z",
          "iopub.execute_input": "2024-01-05T22:11:53.903933Z",
          "iopub.status.idle": "2024-01-05T22:11:53.917666Z",
          "shell.execute_reply.started": "2024-01-05T22:11:53.903897Z",
          "shell.execute_reply": "2024-01-05T22:11:53.91675Z"
        },
        "trusted": true,
        "id": "WJq65MdPBFAZ"
      },
      "execution_count": null,
      "outputs": []
    },
    {
      "cell_type": "markdown",
      "source": [
        "`1D - Series`"
      ],
      "metadata": {
        "id": "0kWbm7UVBFAZ"
      }
    },
    {
      "cell_type": "code",
      "source": [
        "s_obj = po.Series(\"random types\", random_list(start=4, end=12, seed=12),\n",
        "                  dtype=po.Object)\n",
        "s_lst_int = po.Series(\"random lists\",\n",
        "                  random_list(start=4, end=5, seed=15, choice=['int_list', 'float_list']))\n",
        "s_lst_float = po.Series(\"random lists\",\n",
        "                  random_list(start=4, end=5, seed=13, choice=['int_list', 'float_list']))\n",
        "display(s_obj, s_lst_int, s_lst_float)"
      ],
      "metadata": {
        "_kg_hide-output": true,
        "execution": {
          "iopub.status.busy": "2024-01-05T22:11:53.922944Z",
          "iopub.execute_input": "2024-01-05T22:11:53.923304Z",
          "iopub.status.idle": "2024-01-05T22:11:53.946478Z",
          "shell.execute_reply.started": "2024-01-05T22:11:53.923276Z",
          "shell.execute_reply": "2024-01-05T22:11:53.945549Z"
        },
        "trusted": true,
        "id": "9qD3pVF4BFAa"
      },
      "execution_count": null,
      "outputs": []
    },
    {
      "cell_type": "code",
      "source": [
        "s_lst = s_lst_int.cast(po.List(po.Float64)).append(s_lst_float)\n",
        "s_lst, s_lst.n_chunks()"
      ],
      "metadata": {
        "execution": {
          "iopub.status.busy": "2024-01-05T22:11:53.949934Z",
          "iopub.execute_input": "2024-01-05T22:11:53.95031Z",
          "iopub.status.idle": "2024-01-05T22:11:53.957743Z",
          "shell.execute_reply.started": "2024-01-05T22:11:53.95026Z",
          "shell.execute_reply": "2024-01-05T22:11:53.956746Z"
        },
        "trusted": true,
        "id": "OP7FroO4BFAa"
      },
      "execution_count": null,
      "outputs": []
    },
    {
      "cell_type": "markdown",
      "source": [
        "`2D - DataFrames`"
      ],
      "metadata": {
        "id": "U6-3quE8BFAa"
      }
    },
    {
      "cell_type": "code",
      "source": [
        "# they will be columns of different lengths in the resulting data frames\n",
        "# serán columnas de diferentes longitudes en los marcos de datos resultantes\n",
        "d = {'A': random_list(start=4, end=12, seed=14, choice='int_list'),\n",
        "     'B': random_list(start=4, end=12, seed=15, choice='int_list')}"
      ],
      "metadata": {
        "execution": {
          "iopub.status.busy": "2024-01-05T22:11:53.959055Z",
          "iopub.execute_input": "2024-01-05T22:11:53.959739Z",
          "iopub.status.idle": "2024-01-05T22:11:53.96784Z",
          "shell.execute_reply.started": "2024-01-05T22:11:53.959702Z",
          "shell.execute_reply": "2024-01-05T22:11:53.966894Z"
        },
        "trusted": true,
        "id": "w6A2tLgmBFAa"
      },
      "execution_count": null,
      "outputs": []
    },
    {
      "cell_type": "code",
      "source": [
        "po.concat(items=[po.DataFrame({k: v}) for k, v in d.items()], how=\"horizontal\")"
      ],
      "metadata": {
        "execution": {
          "iopub.status.busy": "2024-01-05T22:11:53.968983Z",
          "iopub.execute_input": "2024-01-05T22:11:53.969356Z",
          "iopub.status.idle": "2024-01-05T22:11:53.986954Z",
          "shell.execute_reply.started": "2024-01-05T22:11:53.96932Z",
          "shell.execute_reply": "2024-01-05T22:11:53.985807Z"
        },
        "trusted": true,
        "id": "wQc4anu9BFAa"
      },
      "execution_count": null,
      "outputs": []
    },
    {
      "cell_type": "code",
      "source": [
        "pd.DataFrame.from_dict(d, orient='index').T"
      ],
      "metadata": {
        "execution": {
          "iopub.status.busy": "2024-01-05T22:11:53.988685Z",
          "iopub.execute_input": "2024-01-05T22:11:53.98904Z",
          "iopub.status.idle": "2024-01-05T22:11:54.009276Z",
          "shell.execute_reply.started": "2024-01-05T22:11:53.989006Z",
          "shell.execute_reply": "2024-01-05T22:11:54.008039Z"
        },
        "trusted": true,
        "id": "V_vi_jr2BFAa"
      },
      "execution_count": null,
      "outputs": []
    },
    {
      "cell_type": "markdown",
      "source": [
        "`2D - LazyFrames`"
      ],
      "metadata": {
        "id": "3HxFV2UHBFAa"
      }
    },
    {
      "cell_type": "code",
      "source": [
        "# chain operations without materializing intermediate results\n",
        "# operaciones en cadena sin materializar resultados intermedios\n",
        "lf = po.LazyFrame(\n",
        "     np.array([(1, 2, 1), (3, 4, 5), (6, 7, 6)], dtype=np.float32),\n",
        "     schema=[\"A\", \"B\", \"C\"], orient=\"col\")\n",
        "lf.filter(po.col(\"A\") < 2)\\\n",
        ".select([po.col(\"A\"), po.col(\"B\")])\\\n",
        ".sort(\"B\").collect()"
      ],
      "metadata": {
        "execution": {
          "iopub.status.busy": "2024-01-05T22:11:54.010978Z",
          "iopub.execute_input": "2024-01-05T22:11:54.011884Z",
          "iopub.status.idle": "2024-01-05T22:11:54.027865Z",
          "shell.execute_reply.started": "2024-01-05T22:11:54.011845Z",
          "shell.execute_reply": "2024-01-05T22:11:54.026669Z"
        },
        "trusted": true,
        "id": "rA33YlZOBFAa"
      },
      "execution_count": null,
      "outputs": []
    },
    {
      "cell_type": "markdown",
      "source": [
        "`Expr - Expressions`"
      ],
      "metadata": {
        "id": "D41pd1sOBFAa"
      }
    },
    {
      "cell_type": "code",
      "source": [
        "po.Series([\"2020-01-01 01:00Z\", \"2020-01-01 02:00Z\"])\\\n",
        ".str.strptime(po.Datetime, \"%Y-%m-%d %H:%M%#z\")"
      ],
      "metadata": {
        "execution": {
          "iopub.status.busy": "2024-01-05T22:11:54.02935Z",
          "iopub.execute_input": "2024-01-05T22:11:54.029651Z",
          "iopub.status.idle": "2024-01-05T22:11:54.042945Z",
          "shell.execute_reply.started": "2024-01-05T22:11:54.029624Z",
          "shell.execute_reply": "2024-01-05T22:11:54.041969Z"
        },
        "trusted": true,
        "id": "-IwR0hcFBFAa"
      },
      "execution_count": null,
      "outputs": []
    },
    {
      "cell_type": "code",
      "source": [
        "weather_dict = {\n",
        "    \"station\": [\"station_\" + str(x) for x in range(1, 6)],\n",
        "    \"temperature\": [\"20 5 5 E1 7 13 19 9 6 20\",\n",
        "                    \"18 8 16 11 23 E2 8 E2 E2 E2 90 70 40\",\n",
        "                    \"19 24 E9 16 6 12 10 22\",\n",
        "                    \"E2 E0 15 7 8 10 E1 24 17 13 6\",\n",
        "                    \"14 8 E0 16 22 24 E1\"]}\n",
        "weather_df_po = po.DataFrame(weather_dict)\n",
        "weather_df_po.with_columns(po.col(\"temperature\").str.split(\" \")\\\n",
        ".list.eval(po.element().cast(po.Int64, strict=False)))\\\n",
        ".with_columns(po.col(\"temperature\").list.head(3).alias(\"top_3\"),\n",
        "              po.col(\"temperature\").list.tail(3).alias(\"bottom_3\"),\n",
        "              po.col(\"temperature\").list.len().alias(\"amount\"),\n",
        "              po.col(\"temperature\").list.eval(\n",
        "                  po.element().is_null()).list.sum().alias(\"errors\"))"
      ],
      "metadata": {
        "execution": {
          "iopub.status.busy": "2024-01-05T22:11:54.044281Z",
          "iopub.execute_input": "2024-01-05T22:11:54.04467Z",
          "iopub.status.idle": "2024-01-05T22:11:54.068421Z",
          "shell.execute_reply.started": "2024-01-05T22:11:54.04464Z",
          "shell.execute_reply": "2024-01-05T22:11:54.067382Z"
        },
        "trusted": true,
        "id": "qmhIbJfoBFAa"
      },
      "execution_count": null,
      "outputs": []
    },
    {
      "cell_type": "markdown",
      "source": [
        "`SQL`"
      ],
      "metadata": {
        "id": "0Rlu3F3TBFAa"
      }
    },
    {
      "cell_type": "code",
      "source": [
        "example_po_lazy = example_po.lazy()\n",
        "ctx = po.SQLContext(example_po_lazy=example_po_lazy)\n",
        "from sqlite3 import connect\n",
        "conn = connect(':memory:')\n",
        "example_pd.to_sql(name='example_pd', con=conn)\n",
        "display(example_po_lazy.head(1).collect())\n",
        "type(example_po), type(example_po_lazy), type(example_pd)"
      ],
      "metadata": {
        "execution": {
          "iopub.status.busy": "2024-01-05T22:11:54.069761Z",
          "iopub.execute_input": "2024-01-05T22:11:54.07015Z",
          "iopub.status.idle": "2024-01-05T22:11:54.088332Z",
          "shell.execute_reply.started": "2024-01-05T22:11:54.070111Z",
          "shell.execute_reply": "2024-01-05T22:11:54.087219Z"
        },
        "trusted": true,
        "id": "vGDoEMZaBFAa"
      },
      "execution_count": null,
      "outputs": []
    },
    {
      "cell_type": "code",
      "source": [
        "queries_po = (\"SELECT * FROM example_po_lazy WHERE department = 'IT';\",\n",
        "              \"SELECT department, AVG(salary) AS average_salary \"\n",
        "              \"FROM example_po_lazy GROUP BY department;\",\n",
        "              \"SELECT position, COUNT(*) AS num_employees \"\n",
        "              \"FROM example_po_lazy GROUP BY position;\",\n",
        "              \"SELECT MAX(salary) AS highest_salary FROM example_po_lazy;\",\n",
        "              \"SELECT name, email FROM example_po_lazy WHERE salary > 70000;\",)\n",
        "for q in queries_po:\n",
        "    display(ctx.execute(q).collect())"
      ],
      "metadata": {
        "_kg_hide-output": true,
        "execution": {
          "iopub.status.busy": "2024-01-05T22:11:54.089703Z",
          "iopub.execute_input": "2024-01-05T22:11:54.090094Z",
          "iopub.status.idle": "2024-01-05T22:11:54.125592Z",
          "shell.execute_reply.started": "2024-01-05T22:11:54.090057Z",
          "shell.execute_reply": "2024-01-05T22:11:54.124536Z"
        },
        "trusted": true,
        "id": "iim-5NP1BFAb"
      },
      "execution_count": null,
      "outputs": []
    },
    {
      "cell_type": "code",
      "source": [
        "queries_po2 = (\"example_po_lazy.filter(po.col('department') == 'IT')\",\n",
        "               \"example_po_lazy.group_by('department').agg(po.col('salary')\"\n",
        "               \".mean()).rename({'salary': 'average_salary'})\",\n",
        "               \"example_po_lazy.group_by('position').count()\"\n",
        "               \".rename({'count': 'num_employees'})\",\n",
        "               \"example_po_lazy.group_by('position').\"\n",
        "               \"agg(po.col('position').count().alias('num_employees'))\",\n",
        "               \"example_po_lazy.select(po.col('salary')).max()\",\n",
        "               \"example_po_lazy.filter(po.col('salary') > 70000)\"\n",
        "               \".select([po.col('name'), po.col('email')])\")\n",
        "for q in queries_po2:\n",
        "    display(eval(q + \".collect()\")); print(120*'_')"
      ],
      "metadata": {
        "_kg_hide-output": true,
        "execution": {
          "iopub.status.busy": "2024-01-05T22:11:54.126753Z",
          "iopub.execute_input": "2024-01-05T22:11:54.129604Z",
          "iopub.status.idle": "2024-01-05T22:11:54.162957Z",
          "shell.execute_reply.started": "2024-01-05T22:11:54.129573Z",
          "shell.execute_reply": "2024-01-05T22:11:54.161793Z"
        },
        "trusted": true,
        "id": "yfolOXktBFAb"
      },
      "execution_count": null,
      "outputs": []
    },
    {
      "cell_type": "code",
      "source": [
        "queries_pd = [q.replace('example_po_lazy', 'example_pd') for q in queries_po]\n",
        "for q in queries_pd:\n",
        "    display(pd.read_sql(q, conn))"
      ],
      "metadata": {
        "_kg_hide-output": true,
        "execution": {
          "iopub.status.busy": "2024-01-05T22:11:54.164756Z",
          "iopub.execute_input": "2024-01-05T22:11:54.16507Z",
          "iopub.status.idle": "2024-01-05T22:11:54.213051Z",
          "shell.execute_reply.started": "2024-01-05T22:11:54.165041Z",
          "shell.execute_reply": "2024-01-05T22:11:54.21176Z"
        },
        "trusted": true,
        "id": "XnM95wr4BFAb"
      },
      "execution_count": null,
      "outputs": []
    },
    {
      "cell_type": "code",
      "source": [
        "queries_pd2 = (\"example_pd[example_pd['department'] == 'IT']\",\n",
        "               \"example_pd.groupby('department')['salary'].mean()\",\n",
        "               \"example_pd['position'].value_counts()\",\n",
        "               \"example_pd['salary'].max()\",\n",
        "               \"example_pd[example_pd['salary'] > 70000][['name', 'email']]\")\n",
        "for q in queries_pd2:\n",
        "    display(eval(q)); print(120*'_')"
      ],
      "metadata": {
        "_kg_hide-output": true,
        "execution": {
          "iopub.status.busy": "2024-01-05T22:11:54.214666Z",
          "iopub.execute_input": "2024-01-05T22:11:54.215217Z",
          "iopub.status.idle": "2024-01-05T22:11:54.257022Z",
          "shell.execute_reply.started": "2024-01-05T22:11:54.215155Z",
          "shell.execute_reply": "2024-01-05T22:11:54.255987Z"
        },
        "trusted": true,
        "id": "57P46o89BFAb"
      },
      "execution_count": null,
      "outputs": []
    },
    {
      "cell_type": "markdown",
      "source": [
        "`polars => plotly & matplotlib`"
      ],
      "metadata": {
        "id": "Y5VwMpjjBFAc"
      }
    },
    {
      "cell_type": "code",
      "source": [
        "d = {'A': sorted(random_list(start=100, end=101, seed=14, choice='float')),\n",
        "     'B': random_list(start=100, end=101, seed=15, choice='float')}\n",
        "df_po = po.DataFrame(d)\n",
        "px.line(x=df_po[\"A\"], y=df_po[\"B\"])"
      ],
      "metadata": {
        "execution": {
          "iopub.status.busy": "2024-01-05T22:11:54.258546Z",
          "iopub.execute_input": "2024-01-05T22:11:54.259226Z",
          "iopub.status.idle": "2024-01-05T22:11:55.912351Z",
          "shell.execute_reply.started": "2024-01-05T22:11:54.259186Z",
          "shell.execute_reply": "2024-01-05T22:11:55.911435Z"
        },
        "trusted": true,
        "id": "vc6FFU5CBFAc"
      },
      "execution_count": null,
      "outputs": []
    },
    {
      "cell_type": "code",
      "source": [
        "fig, ax = pl.subplots(figsize=(8, 3))\n",
        "colours = ['tab:orange', 'tab:green']\n",
        "for idx, (gender, gender_po) in enumerate(\n",
        "    example_po.partition_by(\"gender\", as_dict=True).items()):\n",
        "    color = colours[idx]\n",
        "    ax.scatter(x=gender_po[\"age\"].log(),\n",
        "               y=gender_po[\"salary\"].log(),\n",
        "               c=color, label=gender,)\n",
        "ax.legend(); pl.grid(color='slategray')"
      ],
      "metadata": {
        "execution": {
          "iopub.status.busy": "2024-01-05T22:11:55.913616Z",
          "iopub.execute_input": "2024-01-05T22:11:55.913885Z",
          "iopub.status.idle": "2024-01-05T22:11:56.259384Z",
          "shell.execute_reply.started": "2024-01-05T22:11:55.913859Z",
          "shell.execute_reply": "2024-01-05T22:11:56.258332Z"
        },
        "trusted": true,
        "id": "rEX9856-BFAc"
      },
      "execution_count": null,
      "outputs": []
    },
    {
      "cell_type": "markdown",
      "source": [
        "## `datatable`"
      ],
      "metadata": {
        "id": "Iu3UCz66BFAc"
      }
    },
    {
      "cell_type": "code",
      "source": [
        "!pip install -q datatable"
      ],
      "metadata": {
        "execution": {
          "iopub.status.busy": "2024-01-05T22:11:56.261058Z",
          "iopub.execute_input": "2024-01-05T22:11:56.261714Z",
          "iopub.status.idle": "2024-01-05T22:12:11.575388Z",
          "shell.execute_reply.started": "2024-01-05T22:11:56.261671Z",
          "shell.execute_reply": "2024-01-05T22:12:11.574133Z"
        },
        "trusted": true,
        "id": "j_vwlcCSBFAc"
      },
      "execution_count": null,
      "outputs": []
    },
    {
      "cell_type": "code",
      "source": [
        "import datatable as dt, math\n",
        "from datatable import f, fread, ifelse"
      ],
      "metadata": {
        "execution": {
          "iopub.status.busy": "2024-01-05T22:12:11.576846Z",
          "iopub.execute_input": "2024-01-05T22:12:11.577155Z",
          "iopub.status.idle": "2024-01-05T22:12:11.604776Z",
          "shell.execute_reply.started": "2024-01-05T22:12:11.577128Z",
          "shell.execute_reply": "2024-01-05T22:12:11.603914Z"
        },
        "trusted": true,
        "id": "hPzIpbiGBFAc"
      },
      "execution_count": null,
      "outputs": []
    },
    {
      "cell_type": "code",
      "source": [
        "DT1 = dt.Frame(\n",
        "    A=range(5), B=[1.7, 3.4, 0, None, -math.inf], stypes={\"A\": dt.int64})\n",
        "DT2 = dt.Frame(example_pd)\n",
        "# C0, C1, C2... as column names by default\n",
        "# C0, C1, C2... como nombres de columnas por defecto\n",
        "DT3 = dt.Frame(\n",
        "    np.array([(1, 2, 1), (3, 4, 5), (6, 7, 6)], dtype=np.float32))\n",
        "display(DT1), print(DT2.names), display(DT3)"
      ],
      "metadata": {
        "execution": {
          "iopub.status.busy": "2024-01-05T22:12:11.606096Z",
          "iopub.execute_input": "2024-01-05T22:12:11.606587Z",
          "iopub.status.idle": "2024-01-05T22:12:11.621561Z",
          "shell.execute_reply.started": "2024-01-05T22:12:11.606554Z",
          "shell.execute_reply": "2024-01-05T22:12:11.620554Z"
        },
        "trusted": true,
        "id": "t9i6a7B3BFAc"
      },
      "execution_count": null,
      "outputs": []
    },
    {
      "cell_type": "markdown",
      "source": [
        "| Syntax              | Description                                      | Descripción |\n",
        "|---------------------|--------------------------------------------------|- -------------------------------------------------|\n",
        "| `f[:]`               | Select all columns                               |Seleccionar todas las columnas |\n",
        "| `f[::-1]`            | Select all columns in reverse order              | Seleccionar todas las columnas en orden inverso |\n",
        "| `f[:5]`              | Select the first 5 columns                       | Seleccione las primeras 5 columnas |\n",
        "| `f[3:4]`             | Select the fourth column                          | Seleccione la cuarta columna |\n",
        "| `f[\"B\":\"H\"]`         | Select columns from B to H, inclusive             | Seleccione columnas de B a H, inclusive |\n",
        "| `f[int]`             | Select all integer columns                        | Seleccionar todas las columnas de números enteros |\n",
        "| `f[float]`           | Select all floating-point columns                 | Seleccionar todas las columnas de punto flotante |\n",
        "| `f[dt.str32]`        | Select all columns with stype str32               | Seleccione todas las columnas con estilo str32 |\n",
        "| `f[None]`            | Select no columns (empty columnset)               | No seleccionar columnas (conjunto de columnas vacío) |"
      ],
      "metadata": {
        "id": "mh2lMMvpBFAc"
      }
    },
    {
      "cell_type": "code",
      "source": [
        "# f-expressions => to the columns of a current frame\n",
        "# expresiones f => para las columnas de un marco actual\n",
        "ffilter = (f.C1 >= 4)\n",
        "DT3[ffilter,:]"
      ],
      "metadata": {
        "execution": {
          "iopub.status.busy": "2024-01-05T22:12:11.627743Z",
          "iopub.execute_input": "2024-01-05T22:12:11.628011Z",
          "iopub.status.idle": "2024-01-05T22:12:11.634222Z",
          "shell.execute_reply.started": "2024-01-05T22:12:11.627987Z",
          "shell.execute_reply": "2024-01-05T22:12:11.633326Z"
        },
        "trusted": true,
        "id": "094f-FfCBFAg"
      },
      "execution_count": null,
      "outputs": []
    },
    {
      "cell_type": "code",
      "source": [
        "fl = (f[int].extend(f[float]),          # integer and floating-point columns\n",
        "                                        # # columnas de números enteros y de punto flotante\n",
        "      f[:3].extend(f[-3:]),             # the first and the last 3 columns\n",
        "                                        # las primeras y las últimas 3 columnas\n",
        "      f.A.extend(f.B),                  # columns \"A\" and \"B\"\n",
        "                                        # las columnas \"A\" y \"B\"\n",
        "      f[str].extend(dt.str32(f[int])))  # string columns, and also all integer columns\n",
        "                                        # converted to strings\n",
        "                                        # columnas de cadenas, y también todas las columnas\n",
        "                                        # de números enteros convertidas en cadenas\n",
        "display(DT1[:, fl[2]])\n",
        "display(DT2[:3, fl[0]])"
      ],
      "metadata": {
        "execution": {
          "iopub.status.busy": "2024-01-05T22:12:11.635337Z",
          "iopub.execute_input": "2024-01-05T22:12:11.635616Z",
          "iopub.status.idle": "2024-01-05T22:12:11.646401Z",
          "shell.execute_reply.started": "2024-01-05T22:12:11.635591Z",
          "shell.execute_reply": "2024-01-05T22:12:11.645575Z"
        },
        "trusted": true,
        "id": "Xpa9cDbNBFAg"
      },
      "execution_count": null,
      "outputs": []
    },
    {
      "cell_type": "code",
      "source": [
        "pay = \"\"\"\n",
        "       ID|Charges|Payment_Method\n",
        "       634-VHG|28|Cheque\n",
        "       365-DQC|33.5|Credit card\n",
        "       264-PPR|631|--\n",
        "       845-AJO|42.3|\n",
        "       789-KPO|56.9|Bank Transfer\n",
        "       \"\"\"\n",
        "pay_dt = fread(pay, na_strings=['--', ''])\n",
        "display(pay_dt)"
      ],
      "metadata": {
        "execution": {
          "iopub.status.busy": "2024-01-05T22:12:11.647344Z",
          "iopub.execute_input": "2024-01-05T22:12:11.647627Z",
          "iopub.status.idle": "2024-01-05T22:12:11.659429Z",
          "shell.execute_reply.started": "2024-01-05T22:12:11.647599Z",
          "shell.execute_reply": "2024-01-05T22:12:11.658476Z"
        },
        "trusted": true,
        "id": "xvoVU_fzBFAh"
      },
      "execution_count": null,
      "outputs": []
    },
    {
      "cell_type": "code",
      "source": [
        "example_dt = fread('example.csv')\n",
        "# SQL: \"SELECT * FROM example_dt WHERE department = 'IT';\"\n",
        "display(example_dt[(f.department == 'IT'), :])\n",
        "# SQL: \"SELECT department, AVG(salary) AS average_salary\n",
        "#       FROM example_dt GROUP BY department;\"\n",
        "display(example_dt[:, {\"average_salary\": dt.mean(f.salary),},\n",
        "                   dt.by(\"department\")])"
      ],
      "metadata": {
        "execution": {
          "iopub.status.busy": "2024-01-05T22:12:11.660613Z",
          "iopub.execute_input": "2024-01-05T22:12:11.661429Z",
          "iopub.status.idle": "2024-01-05T22:12:11.677077Z",
          "shell.execute_reply.started": "2024-01-05T22:12:11.661402Z",
          "shell.execute_reply": "2024-01-05T22:12:11.676183Z"
        },
        "trusted": true,
        "id": "g4k0AmDuBFAh"
      },
      "execution_count": null,
      "outputs": []
    },
    {
      "cell_type": "code",
      "source": [
        "data = {'name': ['Tomas', 'Sophia', 'Mary', 'Daniel', 'Olivia', 'James', 'Barbara'],\n",
        "        'age': [30, 41, 32, 67, 44, 52, 47],\n",
        "        'rank': ['90%', '95%', '100%', '82%', '87%', '86%', '93%'],\n",
        "        'age_': [30, 41, None, 67, None, 52, 47],\n",
        "        'income': [10000, 8000, 5500, 6200, 12000, 7300, 11500]}\n",
        "df1 = dt.Frame(data)\n",
        "gender = {'Tomas': 'M', 'Sophia': 'F', 'Mary': 'F', 'Daniel': 'M',\n",
        "          'Olivia': 'F', 'James': 'M', 'Barbara': 'F'}\n",
        "gender_frame = dt.Frame({'name': list(gender.keys()), 'gender': list(gender.values())})\n",
        "gender_frame.key = 'name'; df1 = df1[:, :, dt.join(gender_frame)]\n",
        "surnames = {'Tomas': 'Murray', 'Sophia': 'Evans', 'Mary': 'Taylor', 'Daniel': 'Gilbert',\n",
        "            'Olivia': 'Williams', 'James': 'Paterson', 'Barbara': 'Harrison'}\n",
        "surname_frame = dt.Frame({'name': list(surnames.keys()), 'surname': list(surnames.values())})\n",
        "surname_frame.key = 'name'; df1 = df1[:, :, dt.join(surname_frame)]\n",
        "mean_income = df1[:, dt.mean(f.income)]\n",
        "df1[:, dt.update(higher_income=f.income > mean_income)]\n",
        "cond = ifelse((f.age < 50) & (f.income > 7500), True, False)\n",
        "df1[:, dt.update(interview = cond)]\n",
        "fcond = lambda give, amount: ifelse(give, f.income / f.age * amount, 0)\n",
        "df1[:, dt.update(bonus = fcond(True, 6.5))]\n",
        "df1[:, dt.update(year_bonus = f.bonus * 4)]\n",
        "df1"
      ],
      "metadata": {
        "execution": {
          "iopub.status.busy": "2024-01-05T22:12:11.678259Z",
          "iopub.execute_input": "2024-01-05T22:12:11.680226Z",
          "iopub.status.idle": "2024-01-05T22:12:11.696688Z",
          "shell.execute_reply.started": "2024-01-05T22:12:11.68019Z",
          "shell.execute_reply": "2024-01-05T22:12:11.69587Z"
        },
        "trusted": true,
        "id": "cTkMloWDBFAh"
      },
      "execution_count": null,
      "outputs": []
    },
    {
      "cell_type": "code",
      "source": [
        "df1 = pd.DataFrame({\n",
        "    'name': ['Tomas', 'Sophia', 'Mary', 'Daniel',\n",
        "             'Olivia', 'James', 'Barbara'],\n",
        "    'age': [30, 41, 32, 67, 44, 52, 47],\n",
        "    'rank': ['90%', '95%', '100%', '82%', '87%', '86%', '93%'],\n",
        "    'age_': [30, 41, None, 67, None, 52, 47],\n",
        "    'income': [10000, 8000, 5500, 6200, 12000, 7300, 11500]\n",
        "})\n",
        "gender = {'Tomas':'M', 'Sophia':'F', 'Mary':\"F\", 'Daniel':\"M\",\n",
        "          'Olivia':\"F\", 'James':\"M\", 'Barbara':\"F\"}\n",
        "df1['gender'] = df1['name'].map(gender)\n",
        "surnames = pd.Series(\n",
        "    ['Murray', 'Evans', 'Taylor', 'Gilbert',\n",
        "     'Williams', 'Paterson', 'Harrison'], index=df1['name'])\n",
        "df1['surname'] = df1['name'].map(surnames)\n",
        "mean_income = df1['income'].mean()\n",
        "def higher_income(x):\n",
        "    return x > mean_income\n",
        "df1['higher_income'] = df1['income'].map(higher_income)\n",
        "def interview(row):\n",
        "    return row['age'] < 50 and row['income'] > 7500\n",
        "df1['interview'] = df1.apply(interview, axis=1)\n",
        "def bonus(row, amount, give=False):\n",
        "    if give: return row['income'] / row['age'] * amount\n",
        "    else: return 0\n",
        "df1['bonus'] = df1.apply(bonus, args=(6.5,), give=True, axis=1)\n",
        "df1 = df1.assign(year_bonus=df1['bonus']*4)\n",
        "df1"
      ],
      "metadata": {
        "_kg_hide-input": true,
        "_kg_hide-output": true,
        "execution": {
          "iopub.status.busy": "2024-01-05T22:12:11.697817Z",
          "iopub.execute_input": "2024-01-05T22:12:11.698143Z",
          "iopub.status.idle": "2024-01-05T22:12:11.728005Z",
          "shell.execute_reply.started": "2024-01-05T22:12:11.698113Z",
          "shell.execute_reply": "2024-01-05T22:12:11.727146Z"
        },
        "trusted": true,
        "id": "-Q_ok6BVBFAh"
      },
      "execution_count": null,
      "outputs": []
    },
    {
      "cell_type": "code",
      "source": [
        "data = {'ID': [\"x%d\" % r for r in range(10)],\n",
        "        'gender': ['F', 'M', 'F', 'M', 'F', 'M', 'F', 'M', 'M', 'M'],\n",
        "        'exam_year': ['2007', '2007', '2007', '2008', '2008',\n",
        "                      '2008', '2008', '2009', '2009', '2009'],\n",
        "        'class': ['algebra', 'stats', 'bio', 'algebra', 'algebra',\n",
        "                  'stats', 'stats', 'algebra', 'bio', 'bio'],\n",
        "        'participated': ['yes', 'yes', 'yes', 'yes', 'no',\n",
        "                         'yes', 'yes', 'yes', 'yes', 'yes'],\n",
        "        'employed': [True, True, True, False, False,\n",
        "                     False, False, True, True, False],\n",
        "        'grade': [48, 99, 75, 80, 42, 80, 72, 68, 36, 78]}\n",
        "df2 = dt.Frame(data)\n",
        "cond = ifelse(f.grade > 50, 'yes', 'no')\n",
        "df2[:, dt.update(passed = cond)]\n",
        "display(df2[:, {\"participated\": dt.sum(f.participated == \"yes\"),\n",
        "                \"passed\": dt.sum(f.passed == \"yes\"),\n",
        "                \"employed\": dt.sum(f.employed),\n",
        "                \"grade\": dt.mean(f.grade)},\n",
        "            dt.by(\"exam_year\")])\n",
        "df2 = pd.DataFrame(data)\n",
        "df2['passed'] = df2.apply(lambda row: row['grade'] > 50, axis=1)\n",
        "display(df2.groupby('exam_year')\\\n",
        "           .agg({'participated': lambda x: x.value_counts()['yes'],\n",
        "                 'passed': lambda x: sum(x == 'yes'),\n",
        "                 'employed': lambda x: sum(x),\n",
        "                 'grade': lambda x: sum(x) / len(x)}))"
      ],
      "metadata": {
        "execution": {
          "iopub.status.busy": "2024-01-05T22:12:11.729106Z",
          "iopub.execute_input": "2024-01-05T22:12:11.729393Z",
          "iopub.status.idle": "2024-01-05T22:12:11.756872Z",
          "shell.execute_reply.started": "2024-01-05T22:12:11.72937Z",
          "shell.execute_reply": "2024-01-05T22:12:11.756042Z"
        },
        "trusted": true,
        "id": "znoYU6VBBFAi"
      },
      "execution_count": null,
      "outputs": []
    },
    {
      "cell_type": "markdown",
      "source": [
        "`datatable => plotly & matplotlib`"
      ],
      "metadata": {
        "id": "rkgk5pxzBFAi"
      }
    },
    {
      "cell_type": "code",
      "source": [
        "d = {'A': sorted(random_list(start=100, end=101, seed=14, choice='float')),\n",
        "     'B': random_list(start=100, end=101, seed=15, choice='float')}\n",
        "df_dt = dt.Frame(d)\n",
        "px.line(x=df_dt[:, \"A\"].to_list()[0], y=df_dt[:, \"B\"].to_list()[0])"
      ],
      "metadata": {
        "execution": {
          "iopub.status.busy": "2024-01-05T22:12:11.758054Z",
          "iopub.execute_input": "2024-01-05T22:12:11.758388Z",
          "iopub.status.idle": "2024-01-05T22:12:11.825592Z",
          "shell.execute_reply.started": "2024-01-05T22:12:11.758356Z",
          "shell.execute_reply": "2024-01-05T22:12:11.824754Z"
        },
        "trusted": true,
        "id": "dJUWN4rzBFAj"
      },
      "execution_count": null,
      "outputs": []
    },
    {
      "cell_type": "code",
      "source": [
        "fig, ax = pl.subplots(figsize=(8, 3))\n",
        "ax.scatter(example_dt[:, \"age\"].to_list()[0],\n",
        "           example_dt[:, \"salary\"].to_list()[0])\n",
        "pl.xlabel(\"Age\"); pl.ylabel(\"Salary\")\n",
        "pl.title(\"Age vs. Salary\"); pl.grid();"
      ],
      "metadata": {
        "execution": {
          "iopub.status.busy": "2024-01-05T22:12:11.826736Z",
          "iopub.execute_input": "2024-01-05T22:12:11.827377Z",
          "iopub.status.idle": "2024-01-05T22:12:12.133542Z",
          "shell.execute_reply.started": "2024-01-05T22:12:11.827343Z",
          "shell.execute_reply": "2024-01-05T22:12:12.132669Z"
        },
        "trusted": true,
        "id": "Svji1XrnBFAj"
      },
      "execution_count": null,
      "outputs": []
    },
    {
      "cell_type": "markdown",
      "source": [
        "## `vaex`"
      ],
      "metadata": {
        "id": "JYgdHShCBFAj"
      }
    },
    {
      "cell_type": "code",
      "source": [
        "%pip install -q vaex"
      ],
      "metadata": {
        "execution": {
          "iopub.status.busy": "2024-01-05T22:12:12.134806Z",
          "iopub.execute_input": "2024-01-05T22:12:12.135184Z",
          "iopub.status.idle": "2024-01-05T22:12:25.730268Z",
          "shell.execute_reply.started": "2024-01-05T22:12:12.135135Z",
          "shell.execute_reply": "2024-01-05T22:12:25.729019Z"
        },
        "trusted": true,
        "id": "aYi3VOJiBFAj"
      },
      "execution_count": null,
      "outputs": []
    },
    {
      "cell_type": "code",
      "source": [
        "import vaex"
      ],
      "metadata": {
        "execution": {
          "iopub.status.busy": "2024-01-05T22:12:25.731681Z",
          "iopub.execute_input": "2024-01-05T22:12:25.731999Z",
          "iopub.status.idle": "2024-01-05T22:12:26.495143Z",
          "shell.execute_reply.started": "2024-01-05T22:12:25.731968Z",
          "shell.execute_reply": "2024-01-05T22:12:26.494351Z"
        },
        "trusted": true,
        "id": "bX2j8JlFBFAj"
      },
      "execution_count": null,
      "outputs": []
    },
    {
      "cell_type": "code",
      "source": [
        "x = random_list(start=25, end=25, seed=16, choice=['int', 'float', 'chr'])\n",
        "y = random_list(start=25, end=25, seed=13, choice=['int', 'float'])\n",
        "z = random_list(start=25, end=25, seed=10, choice=['chr'])\n",
        "df = vaex.from_arrays(x=x, y=y, z=z)\n",
        "display(df.head(7)); display(df.describe(selection=df.y>25))"
      ],
      "metadata": {
        "execution": {
          "iopub.status.busy": "2024-01-05T22:12:26.496138Z",
          "iopub.execute_input": "2024-01-05T22:12:26.49673Z",
          "iopub.status.idle": "2024-01-05T22:12:26.705475Z",
          "shell.execute_reply.started": "2024-01-05T22:12:26.496701Z",
          "shell.execute_reply": "2024-01-05T22:12:26.704623Z"
        },
        "trusted": true,
        "id": "imOnwl7QBFAj"
      },
      "execution_count": null,
      "outputs": []
    },
    {
      "cell_type": "code",
      "source": [
        "for i1, i2, chunk in df.evaluate_iterator(df.y, chunk_size=5):\n",
        "    print(f\"id from {i1} to {i2-1}: sum y = {chunk.sum()}\")"
      ],
      "metadata": {
        "execution": {
          "iopub.status.busy": "2024-01-05T22:12:26.706519Z",
          "iopub.execute_input": "2024-01-05T22:12:26.706798Z",
          "iopub.status.idle": "2024-01-05T22:12:26.716857Z",
          "shell.execute_reply.started": "2024-01-05T22:12:26.706773Z",
          "shell.execute_reply": "2024-01-05T22:12:26.716021Z"
        },
        "trusted": true,
        "id": "8GEgRwwUBFAj"
      },
      "execution_count": null,
      "outputs": []
    },
    {
      "cell_type": "code",
      "source": [
        "data = {'name': ['Tomas', 'Sophia', 'Mary', 'Daniel', 'Olivia', 'James', 'Barbara'],\n",
        "        'age': [30, 41, 32, 67, 44, 52, 47],\n",
        "        'rank': ['90%', '95%', '100%', '82%', '87%', '86%', '93%'],\n",
        "        'age_': [30, 41, None, 67, None, 52, 47],\n",
        "        'income': [10000, 8000, 5500, 6200, 12000, 7300, 11500],\n",
        "        'gender': list('MFFMFMF')}\n",
        "df1 = vaex.from_dict(data)\n",
        "# a virtual column (computed on the fly)\n",
        "# una columna virtual (calculada sobre la marcha)\n",
        "df1['bonus'] = 6.5 * df1.income  / df1.age\n",
        "# turn columns into the native CPU format for optimal performance at memory cost\n",
        "# convierta las columnas al formato nativo de la CPU para\n",
        "# obtener un rendimiento óptimo con un coste de memoria\n",
        "df1 = df1.materialize('bonus')\n",
        "display(df1); display(df1['bonus'])\n",
        "@vaex.register_function()\n",
        "def year_bonus(bonus):\n",
        "    return bonus * 4\n",
        "display(df1.bonus.year_bonus())"
      ],
      "metadata": {
        "execution": {
          "iopub.status.busy": "2024-01-05T22:12:26.717902Z",
          "iopub.execute_input": "2024-01-05T22:12:26.718212Z",
          "iopub.status.idle": "2024-01-05T22:12:26.755989Z",
          "shell.execute_reply.started": "2024-01-05T22:12:26.718177Z",
          "shell.execute_reply": "2024-01-05T22:12:26.755186Z"
        },
        "trusted": true,
        "id": "2WrxCpe9BFAj"
      },
      "execution_count": null,
      "outputs": []
    },
    {
      "cell_type": "code",
      "source": [
        "@vaex.register_function(as_property=True)\n",
        "def interview_property(age, income):\n",
        "    result = []\n",
        "    for a, i in zip(age.tolist(), income.tolist()):\n",
        "        result.append((a < 50) & (i > 7500))\n",
        "    return np.array(result)\n",
        "# add a visible column / agregar una columna visible\n",
        "# df1['interview'] = (df1.age < 50) & (df1.income > 7500)\n",
        "# add a custom property / agregar una propiedad personalizada\n",
        "df1.interview = df1.func.interview_property(df1.age, df1.income)\n",
        "display(df1); display(df1.interview);"
      ],
      "metadata": {
        "execution": {
          "iopub.status.busy": "2024-01-05T22:12:26.756973Z",
          "iopub.execute_input": "2024-01-05T22:12:26.75725Z",
          "iopub.status.idle": "2024-01-05T22:12:26.777992Z",
          "shell.execute_reply.started": "2024-01-05T22:12:26.757226Z",
          "shell.execute_reply": "2024-01-05T22:12:26.777124Z"
        },
        "trusted": true,
        "id": "neE32nCHBFAk"
      },
      "execution_count": null,
      "outputs": []
    },
    {
      "cell_type": "code",
      "source": [
        "x = np.linspace(-1.1, 1.1, 100)\n",
        "y = np.linspace(-1.1, 1.1, 100)\n",
        "X, Y = np.meshgrid(x, y)\n",
        "k = np.array(range(1, 10000, 2))\n",
        "x0 = np.cos(14*np.pi*k/10**4)*(1-.75*(np.cos(20*np.pi*k/10**4))**2)\n",
        "y0 = np.sin(14*np.pi*k/10**4)*(1-.75*(np.cos(24*np.pi*k/10**4))**2)\n",
        "r = 10**(-2)+.1*np.sin(54*np.pi*k/10**4)**6\n",
        "F = np.array([(X-x0[(i-1)//2])**2+(Y-y0[(i-1)//2])**2-r[(i-1)//2]**2\n",
        "              for i in k])\n",
        "df_va = vaex.from_arrays(k=k, x0=x0, y0=y0, r=r, F=F)\n",
        "pl.figure(figsize=(8, 3))\n",
        "df_va.viz.histogram(df_va.r, limits='75.%');\n",
        "pl.figure(figsize=(8, 3))\n",
        "df_va.viz.heatmap(\n",
        "    [[\"x0\", \"y0\"]], what=[\"count(*)\", \"mean(r)\"],\n",
        "    selection=[\"-1.2 < r < 1.2\"], limits='99%');\n",
        "fig = pl.figure(figsize=(8, 8))\n",
        "ax = fig.add_subplot()\n",
        "for i in range(5000):\n",
        "    ax.contour(X, Y, F[i], [0],\n",
        "               colors=[pl.cm.hot(i/5000)[:3]], linewidths=.1);\n",
        "ax.set_xlim((-1.1, 1.1)); ax.set_ylim((-1.1, 1.1));"
      ],
      "metadata": {
        "execution": {
          "iopub.status.busy": "2024-01-05T22:12:26.779047Z",
          "iopub.execute_input": "2024-01-05T22:12:26.779326Z",
          "iopub.status.idle": "2024-01-05T22:14:10.611492Z",
          "shell.execute_reply.started": "2024-01-05T22:12:26.779302Z",
          "shell.execute_reply": "2024-01-05T22:14:10.610495Z"
        },
        "trusted": true,
        "id": "pFRt1hZ4BFAk"
      },
      "execution_count": null,
      "outputs": []
    },
    {
      "cell_type": "code",
      "source": [
        "# huge datasets\n",
        "taxi = vaex.open('s3://vaex/taxi/yellow_taxi_2015_f32s.hdf5?anon=true')\n",
        "taxi.shape"
      ],
      "metadata": {
        "execution": {
          "iopub.status.busy": "2024-01-05T22:14:24.18988Z",
          "iopub.execute_input": "2024-01-05T22:14:24.190884Z",
          "iopub.status.idle": "2024-01-05T22:14:44.213621Z",
          "shell.execute_reply.started": "2024-01-05T22:14:24.190838Z",
          "shell.execute_reply": "2024-01-05T22:14:44.212676Z"
        },
        "trusted": true,
        "id": "h7I2JA4cBFAk"
      },
      "execution_count": null,
      "outputs": []
    },
    {
      "cell_type": "code",
      "source": [
        "taxi['fare_by_distance'] = (taxi.fare_amount / taxi.trip_distance)\n",
        "taxi[['pickup_datetime','dropoff_datetime','fare_by_distance']].head(3)"
      ],
      "metadata": {
        "execution": {
          "iopub.status.busy": "2024-01-05T22:15:22.045328Z",
          "iopub.execute_input": "2024-01-05T22:15:22.045699Z",
          "iopub.status.idle": "2024-01-05T22:15:22.965052Z",
          "shell.execute_reply.started": "2024-01-05T22:15:22.045668Z",
          "shell.execute_reply": "2024-01-05T22:15:22.963928Z"
        },
        "trusted": true,
        "id": "jZ9y4eX2BFAk"
      },
      "execution_count": null,
      "outputs": []
    },
    {
      "cell_type": "code",
      "source": [
        "taxi[taxi.trip_distance>0].fare_by_distance.mean(progress='widget')"
      ],
      "metadata": {
        "execution": {
          "iopub.status.busy": "2024-01-05T22:15:34.698017Z",
          "iopub.execute_input": "2024-01-05T22:15:34.698697Z",
          "iopub.status.idle": "2024-01-05T22:15:53.421337Z",
          "shell.execute_reply.started": "2024-01-05T22:15:34.69866Z",
          "shell.execute_reply": "2024-01-05T22:15:53.420229Z"
        },
        "trusted": true,
        "id": "TROMDOOFBFAk"
      },
      "execution_count": null,
      "outputs": []
    },
    {
      "cell_type": "code",
      "source": [
        "counts_geo = taxi.count(\n",
        "    binby=[taxi.pickup_longitude, taxi.pickup_latitude],\n",
        "    shape=256, limits=[[-74.37, -73.54], [40.49, 40.92]], progress='widget')"
      ],
      "metadata": {
        "execution": {
          "iopub.status.busy": "2024-01-05T22:16:19.701719Z",
          "iopub.execute_input": "2024-01-05T22:16:19.702114Z",
          "iopub.status.idle": "2024-01-05T22:16:38.510017Z",
          "shell.execute_reply.started": "2024-01-05T22:16:19.70208Z",
          "shell.execute_reply": "2024-01-05T22:16:38.508888Z"
        },
        "trusted": true,
        "id": "qGdRmV03BFAk"
      },
      "execution_count": null,
      "outputs": []
    },
    {
      "cell_type": "code",
      "source": [
        "pl.figure(figsize=(8, 8))\n",
        "pl.imshow(np.log1p(counts_geo).T, origin='lower', cmap='hot', aspect='auto');"
      ],
      "metadata": {
        "execution": {
          "iopub.status.busy": "2024-01-05T22:17:02.277237Z",
          "iopub.execute_input": "2024-01-05T22:17:02.278194Z",
          "iopub.status.idle": "2024-01-05T22:17:02.735325Z",
          "shell.execute_reply.started": "2024-01-05T22:17:02.278142Z",
          "shell.execute_reply": "2024-01-05T22:17:02.734314Z"
        },
        "_kg_hide-output": true,
        "trusted": true,
        "id": "YB7llDH0BFAl"
      },
      "execution_count": null,
      "outputs": []
    },
    {
      "cell_type": "markdown",
      "source": [
        "## `CuPy`"
      ],
      "metadata": {
        "id": "VnIq79F6BFAl"
      }
    },
    {
      "cell_type": "code",
      "source": [
        "import cupy as cp"
      ],
      "metadata": {
        "execution": {
          "iopub.status.busy": "2024-01-05T22:14:10.613097Z",
          "iopub.execute_input": "2024-01-05T22:14:10.613496Z",
          "iopub.status.idle": "2024-01-05T22:14:12.144573Z",
          "shell.execute_reply.started": "2024-01-05T22:14:10.613461Z",
          "shell.execute_reply": "2024-01-05T22:14:12.143149Z"
        },
        "trusted": true,
        "id": "PBBTTdnyBFAl"
      },
      "execution_count": null,
      "outputs": []
    },
    {
      "cell_type": "code",
      "source": [
        "x_cpu, x_gpu = np.array([1, 2, 3]), cp.array([1, 2, 3])\n",
        "y_cpu, y_gpu = np.array([4, 5, 6]), cp.array([4, 5, 6])\n",
        "(x_cpu + y_cpu, x_gpu + y_gpu,\n",
        " x_cpu + cp.asnumpy(y_gpu), x_gpu + cp.asarray(y_cpu))"
      ],
      "metadata": {
        "execution": {
          "iopub.status.busy": "2024-01-05T22:14:12.152321Z",
          "iopub.execute_input": "2024-01-05T22:14:12.156401Z",
          "iopub.status.idle": "2024-01-05T22:14:12.896002Z",
          "shell.execute_reply.started": "2024-01-05T22:14:12.156337Z",
          "shell.execute_reply": "2024-01-05T22:14:12.895037Z"
        },
        "trusted": true,
        "id": "-X8A48PxBFAl"
      },
      "execution_count": null,
      "outputs": []
    },
    {
      "cell_type": "code",
      "source": [
        "(np.array([-1], dtype=np.float32).astype(np.uint32),\n",
        " cp.array([-1], dtype=np.float32).astype(np.uint32),\n",
        " np.array([float('inf')], dtype=np.float32).astype(np.int32),\n",
        " cp.array([float('inf')], dtype=np.float32).astype(np.int32))"
      ],
      "metadata": {
        "execution": {
          "iopub.status.busy": "2024-01-05T22:14:12.897222Z",
          "iopub.execute_input": "2024-01-05T22:14:12.897524Z",
          "iopub.status.idle": "2024-01-05T22:14:13.417839Z",
          "shell.execute_reply.started": "2024-01-05T22:14:12.897498Z",
          "shell.execute_reply": "2024-01-05T22:14:13.416916Z"
        },
        "trusted": true,
        "id": "ATW7RZWKBFAl"
      },
      "execution_count": null,
      "outputs": []
    },
    {
      "cell_type": "code",
      "source": [
        "np_rand = np.array(np.random.randn())\n",
        "cp_rand = cp.random.randn(dtype=np.float32)\n",
        "np_rand.dtype, cp_rand"
      ],
      "metadata": {
        "execution": {
          "iopub.status.busy": "2024-01-05T22:14:13.419081Z",
          "iopub.execute_input": "2024-01-05T22:14:13.419484Z",
          "iopub.status.idle": "2024-01-05T22:14:13.4914Z",
          "shell.execute_reply.started": "2024-01-05T22:14:13.419438Z",
          "shell.execute_reply": "2024-01-05T22:14:13.490527Z"
        },
        "trusted": true,
        "id": "S4TMO8KQBFAl"
      },
      "execution_count": null,
      "outputs": []
    },
    {
      "cell_type": "code",
      "source": [
        "# in progress ╰( ͡° ͜ʖ ͡° )つ──☆*:・ﾟ"
      ],
      "metadata": {
        "execution": {
          "iopub.status.busy": "2024-01-05T22:14:13.492633Z",
          "iopub.execute_input": "2024-01-05T22:14:13.492924Z",
          "iopub.status.idle": "2024-01-05T22:14:13.496868Z",
          "shell.execute_reply.started": "2024-01-05T22:14:13.492898Z",
          "shell.execute_reply": "2024-01-05T22:14:13.49595Z"
        },
        "trusted": true,
        "id": "Vn1MUNk1BFAl"
      },
      "execution_count": null,
      "outputs": []
    }
  ]
}