{
  "metadata": {
    "kernelspec": {
      "language": "python",
      "display_name": "Python 3",
      "name": "python3"
    },
    "language_info": {
      "pygments_lexer": "ipython3",
      "nbconvert_exporter": "python",
      "version": "3.6.4",
      "file_extension": ".py",
      "codemirror_mode": {
        "name": "ipython",
        "version": 3
      },
      "name": "python",
      "mimetype": "text/x-python"
    },
    "colab": {
      "name": "PandasInterviewQuestions-(DataScientist,ML)",
      "provenance": [],
      "include_colab_link": true
    }
  },
  "nbformat_minor": 0,
  "nbformat": 4,
  "cells": [
    {
      "cell_type": "markdown",
      "metadata": {
        "id": "view-in-github",
        "colab_type": "text"
      },
      "source": [
        "<a href=\"https://colab.research.google.com/github/gitdhirajsv/Awesome-Quant-Machine-Learning-Trading/blob/master/PandasInterviewQuestions_(DataScientist%2CML).ipynb\" target=\"_parent\"><img src=\"https://colab.research.google.com/assets/colab-badge.svg\" alt=\"Open In Colab\"/></a>"
      ]
    },
    {
      "cell_type": "markdown",
      "source": [
        "# Pandas Interview Questions-(DataScientist,Machine Learning, Data Analyst)"
      ],
      "metadata": {
        "id": "OvQyjU5NCnBd"
      }
    },
    {
      "cell_type": "markdown",
      "source": [
        "Pandas is a powerful Python library for data manipulation and analysis.\n",
        "- It provides two primary data structures:\n",
        "    * Series\n",
        "    * DataFrame\n",
        "- Pandas is widely used in:\n",
        "    * data preprocessing\n",
        "    * exploration\n",
        "    * transformation\n",
        "    * analysis tasks"
      ],
      "metadata": {
        "id": "vJo4sQUlCnBf"
      }
    },
    {
      "cell_type": "markdown",
      "source": [
        "## Importing Pandas\n",
        "\n",
        "Pandas needs to be imported before use"
      ],
      "metadata": {
        "id": "Dlx4FKR-CnBg"
      }
    },
    {
      "cell_type": "code",
      "source": [
        "import pandas as pd"
      ],
      "metadata": {
        "execution": {
          "iopub.status.busy": "2023-08-29T06:00:41.791782Z",
          "iopub.execute_input": "2023-08-29T06:00:41.792313Z",
          "iopub.status.idle": "2023-08-29T06:00:41.824937Z",
          "shell.execute_reply.started": "2023-08-29T06:00:41.792274Z",
          "shell.execute_reply": "2023-08-29T06:00:41.823763Z"
        },
        "trusted": true,
        "id": "VGoZ5e7lCnBg"
      },
      "execution_count": null,
      "outputs": []
    },
    {
      "cell_type": "markdown",
      "source": [
        "### Creating a DataFrame\n",
        "\n",
        "- A DataFrame is a fundamental data structure in Pandas, which can be thought of as a two-dimensional table with rows and columns.\n",
        "- It's a common way to represent and work with structured data."
      ],
      "metadata": {
        "id": "ZBoikh-zCnBh"
      }
    },
    {
      "cell_type": "markdown",
      "source": [
        "**From a Dictionary**"
      ],
      "metadata": {
        "id": "fc0sJh-oCnBh"
      }
    },
    {
      "cell_type": "code",
      "source": [
        "data = {'Name': ['Mukesh', 'Papon', 'Charls', 'Zeny', 'Cube'],\n",
        "        'Age': [25, 30, 28, 23, 32]}\n",
        "df = pd.DataFrame(data)\n",
        "df.head()"
      ],
      "metadata": {
        "execution": {
          "iopub.status.busy": "2023-08-29T06:05:39.986823Z",
          "iopub.execute_input": "2023-08-29T06:05:39.987364Z",
          "iopub.status.idle": "2023-08-29T06:05:40.002798Z",
          "shell.execute_reply.started": "2023-08-29T06:05:39.987326Z",
          "shell.execute_reply": "2023-08-29T06:05:40.00125Z"
        },
        "trusted": true,
        "id": "bMU3h52ICnBh"
      },
      "execution_count": null,
      "outputs": []
    },
    {
      "cell_type": "markdown",
      "source": [
        "## Exploring Data\n",
        "\n",
        "- Pandas provides various methods to help you understand your data"
      ],
      "metadata": {
        "id": "eFN-VSLHCnBh"
      }
    },
    {
      "cell_type": "markdown",
      "source": [
        "**Displaying First 5 Rows**"
      ],
      "metadata": {
        "id": "Qzu57KZTCnBi"
      }
    },
    {
      "cell_type": "code",
      "source": [
        "df.head()"
      ],
      "metadata": {
        "execution": {
          "iopub.status.busy": "2023-08-29T06:05:57.007295Z",
          "iopub.execute_input": "2023-08-29T06:05:57.007881Z",
          "iopub.status.idle": "2023-08-29T06:05:57.021857Z",
          "shell.execute_reply.started": "2023-08-29T06:05:57.007834Z",
          "shell.execute_reply": "2023-08-29T06:05:57.020444Z"
        },
        "trusted": true,
        "id": "_7uZQ7Y8CnBi"
      },
      "execution_count": null,
      "outputs": []
    },
    {
      "cell_type": "markdown",
      "source": [
        "#### Summary Statistics\n",
        "\n",
        "- This will provide summary statistics for numeric columns, such as count, mean, standard deviation, minimum, and maximum."
      ],
      "metadata": {
        "id": "P_XO0HTbCnBi"
      }
    },
    {
      "cell_type": "code",
      "source": [
        "df.describe()"
      ],
      "metadata": {
        "execution": {
          "iopub.status.busy": "2023-08-29T06:06:25.081251Z",
          "iopub.execute_input": "2023-08-29T06:06:25.08175Z",
          "iopub.status.idle": "2023-08-29T06:06:25.106188Z",
          "shell.execute_reply.started": "2023-08-29T06:06:25.081712Z",
          "shell.execute_reply": "2023-08-29T06:06:25.105067Z"
        },
        "trusted": true,
        "id": "nJ_5ETgrCnBj"
      },
      "execution_count": null,
      "outputs": []
    },
    {
      "cell_type": "markdown",
      "source": [
        "#### Data Types of Columns\n",
        "\n",
        "- This will display the data types of each column in the DataFrame"
      ],
      "metadata": {
        "id": "Vx6Or4gPCnBj"
      }
    },
    {
      "cell_type": "code",
      "source": [
        "df.dtypes"
      ],
      "metadata": {
        "execution": {
          "iopub.status.busy": "2023-08-29T06:07:36.296563Z",
          "iopub.execute_input": "2023-08-29T06:07:36.296985Z",
          "iopub.status.idle": "2023-08-29T06:07:36.306968Z",
          "shell.execute_reply.started": "2023-08-29T06:07:36.296955Z",
          "shell.execute_reply": "2023-08-29T06:07:36.305487Z"
        },
        "trusted": true,
        "id": "o6jmjgELCnBj"
      },
      "execution_count": null,
      "outputs": []
    },
    {
      "cell_type": "markdown",
      "source": [
        "#### Column Names\n",
        "\n",
        "- This will display the column names of the DataFrame."
      ],
      "metadata": {
        "id": "wAL-ReWJCnBj"
      }
    },
    {
      "cell_type": "code",
      "source": [
        "print(df.columns)"
      ],
      "metadata": {
        "execution": {
          "iopub.status.busy": "2023-08-29T06:08:14.15126Z",
          "iopub.execute_input": "2023-08-29T06:08:14.151763Z",
          "iopub.status.idle": "2023-08-29T06:08:14.15819Z",
          "shell.execute_reply.started": "2023-08-29T06:08:14.151728Z",
          "shell.execute_reply": "2023-08-29T06:08:14.156979Z"
        },
        "trusted": true,
        "id": "GoMLWXCiCnBj"
      },
      "execution_count": null,
      "outputs": []
    },
    {
      "cell_type": "markdown",
      "source": [
        "## Indexing and Selection\n",
        "\n",
        "Indexing and selecting specific data from a DataFrame are fundamental operations for data analysis and manipulation"
      ],
      "metadata": {
        "id": "SxWMfkc3CnBj"
      }
    },
    {
      "cell_type": "markdown",
      "source": [
        "#### Accessing a Column\n",
        "\n",
        "This will retrieve the 'Name' column from the DataFrame"
      ],
      "metadata": {
        "id": "O3DNCg8aCnBj"
      }
    },
    {
      "cell_type": "code",
      "source": [
        "df['Name']"
      ],
      "metadata": {
        "execution": {
          "iopub.status.busy": "2023-08-29T06:09:44.167348Z",
          "iopub.execute_input": "2023-08-29T06:09:44.167808Z",
          "iopub.status.idle": "2023-08-29T06:09:44.178498Z",
          "shell.execute_reply.started": "2023-08-29T06:09:44.167772Z",
          "shell.execute_reply": "2023-08-29T06:09:44.176788Z"
        },
        "trusted": true,
        "id": "B1Wsac6ICnBk"
      },
      "execution_count": null,
      "outputs": []
    },
    {
      "cell_type": "markdown",
      "source": [
        "#### Accessing Rows using `iloc`\n",
        "\n",
        "This will retrieve the first row of the DataFrame."
      ],
      "metadata": {
        "id": "pNoKyJ8_CnBk"
      }
    },
    {
      "cell_type": "code",
      "source": [
        "df.iloc[0]"
      ],
      "metadata": {
        "execution": {
          "iopub.status.busy": "2023-08-29T06:10:07.681334Z",
          "iopub.execute_input": "2023-08-29T06:10:07.681764Z",
          "iopub.status.idle": "2023-08-29T06:10:07.691832Z",
          "shell.execute_reply.started": "2023-08-29T06:10:07.681733Z",
          "shell.execute_reply": "2023-08-29T06:10:07.690399Z"
        },
        "trusted": true,
        "id": "MSKDJrlQCnBk"
      },
      "execution_count": null,
      "outputs": []
    },
    {
      "cell_type": "markdown",
      "source": [
        "#### Boolean Indexing\n",
        "\n",
        "This will return rows where the 'Age' column values are greater than 25"
      ],
      "metadata": {
        "id": "Z0iGbLGfCnBk"
      }
    },
    {
      "cell_type": "code",
      "source": [
        "df[df['Age'] > 25]"
      ],
      "metadata": {
        "execution": {
          "iopub.status.busy": "2023-08-29T06:11:15.516037Z",
          "iopub.execute_input": "2023-08-29T06:11:15.516461Z",
          "iopub.status.idle": "2023-08-29T06:11:15.532222Z",
          "shell.execute_reply.started": "2023-08-29T06:11:15.516427Z",
          "shell.execute_reply": "2023-08-29T06:11:15.530971Z"
        },
        "trusted": true,
        "id": "4RDAzwhlCnBk"
      },
      "execution_count": null,
      "outputs": []
    },
    {
      "cell_type": "markdown",
      "source": [
        "## Data Cleaning\n",
        "\n",
        "Data cleaning is a critical step before analysis.\n",
        "- Pandas provides methods to handle missing values, duplicates, and data type conversions."
      ],
      "metadata": {
        "id": "qtBU2QG8CnBk"
      }
    },
    {
      "cell_type": "code",
      "source": [
        "import pandas as pd\n",
        "import numpy as np\n",
        "\n",
        "# Creating a dictionary for the dataset\n",
        "data = {\n",
        "    'Name': ['Mukesh', 'Papon', 'Yono', 'Davendra', 'Cube', np.nan],\n",
        "    'Age': [25, 30, 28, 22, 27, 23],\n",
        "    'Gender': ['M', 'F', 'M', 'M', 'F','M'],\n",
        "    'City': ['Gurugram', 'Pune', 'Kochi', 'Houston', np.nan, np.nan]\n",
        "}\n",
        "\n",
        "# Creating a DataFrame from the dictionary\n",
        "df = pd.DataFrame(data)\n",
        "\n",
        "# Display the DataFrame\n",
        "df"
      ],
      "metadata": {
        "execution": {
          "iopub.status.busy": "2023-08-29T09:15:28.297765Z",
          "iopub.execute_input": "2023-08-29T09:15:28.298146Z",
          "iopub.status.idle": "2023-08-29T09:15:28.313499Z",
          "shell.execute_reply.started": "2023-08-29T09:15:28.298116Z",
          "shell.execute_reply": "2023-08-29T09:15:28.312331Z"
        },
        "trusted": true,
        "id": "8vFBwa1_CnBl"
      },
      "execution_count": null,
      "outputs": []
    },
    {
      "cell_type": "code",
      "source": [
        "df.isnull().sum()"
      ],
      "metadata": {
        "execution": {
          "iopub.status.busy": "2023-08-29T09:15:29.237834Z",
          "iopub.execute_input": "2023-08-29T09:15:29.23828Z",
          "iopub.status.idle": "2023-08-29T09:15:29.248891Z",
          "shell.execute_reply.started": "2023-08-29T09:15:29.238246Z",
          "shell.execute_reply": "2023-08-29T09:15:29.247574Z"
        },
        "trusted": true,
        "id": "ptTLCh72CnBl"
      },
      "execution_count": null,
      "outputs": []
    },
    {
      "cell_type": "markdown",
      "source": [
        "#### Handling Missing Values"
      ],
      "metadata": {
        "id": "9cax-6zYCnBl"
      }
    },
    {
      "cell_type": "code",
      "source": [
        "# Drop rows with missing values\n",
        "df1 = df.copy(deep=True)\n",
        "df1 = df1.dropna()\n",
        "\n",
        "df1.isnull().sum()"
      ],
      "metadata": {
        "execution": {
          "iopub.status.busy": "2023-08-29T09:15:30.572607Z",
          "iopub.execute_input": "2023-08-29T09:15:30.572986Z",
          "iopub.status.idle": "2023-08-29T09:15:30.584366Z",
          "shell.execute_reply.started": "2023-08-29T09:15:30.572956Z",
          "shell.execute_reply": "2023-08-29T09:15:30.5833Z"
        },
        "trusted": true,
        "id": "bmVtBavWCnBl"
      },
      "execution_count": null,
      "outputs": []
    },
    {
      "cell_type": "code",
      "source": [
        "# Fill missing values with a specific value\n",
        "#df.fillna(value)"
      ],
      "metadata": {
        "id": "W8qy90krCnBl"
      },
      "execution_count": null,
      "outputs": []
    },
    {
      "cell_type": "code",
      "source": [
        "import pandas as pd\n",
        "import numpy as np\n",
        "\n",
        "# Creating a dictionary for the dataset\n",
        "data = {\n",
        "    'Name': ['Mukesh', 'Papon', 'Yono', 'Davendra', 'Cube', np.nan,'Mukesh'],\n",
        "    'Age': [28, 30, 28, 22, 27, 23,28],\n",
        "    'Gender': ['M', 'F', 'M', 'M', 'F','M','M'],\n",
        "    'City': ['Gurugram', 'Pune', 'Kochi', 'Houston', np.nan, np.nan,'Gurugram']\n",
        "}\n",
        "\n",
        "# Creating a DataFrame from the dictionary\n",
        "df = pd.DataFrame(data)\n",
        "\n",
        "# Display the DataFrame\n",
        "df2 = df.copy(deep=True)\n",
        "df2"
      ],
      "metadata": {
        "execution": {
          "iopub.status.busy": "2023-08-29T09:21:13.334261Z",
          "iopub.execute_input": "2023-08-29T09:21:13.334637Z",
          "iopub.status.idle": "2023-08-29T09:21:13.352111Z",
          "shell.execute_reply.started": "2023-08-29T09:21:13.334608Z",
          "shell.execute_reply": "2023-08-29T09:21:13.351014Z"
        },
        "trusted": true,
        "id": "H_6IX5DpCnBl"
      },
      "execution_count": null,
      "outputs": []
    },
    {
      "cell_type": "markdown",
      "source": [
        "#### Removing Duplicates\n",
        "\n"
      ],
      "metadata": {
        "id": "FkCFOcqICnBl"
      }
    },
    {
      "cell_type": "code",
      "source": [
        "df2_deduplicated = df2.drop_duplicates()\n",
        "df2_deduplicated"
      ],
      "metadata": {
        "execution": {
          "iopub.status.busy": "2023-08-29T09:21:16.883102Z",
          "iopub.execute_input": "2023-08-29T09:21:16.88354Z",
          "iopub.status.idle": "2023-08-29T09:21:16.897882Z",
          "shell.execute_reply.started": "2023-08-29T09:21:16.883502Z",
          "shell.execute_reply": "2023-08-29T09:21:16.896589Z"
        },
        "trusted": true,
        "id": "l5R0pHNbCnBm"
      },
      "execution_count": null,
      "outputs": []
    },
    {
      "cell_type": "markdown",
      "source": [
        "## Data Transformation\n",
        "\n",
        "- Data transformation involves modifying, adding, or reformatting data within a DataFrame\n",
        "- Pandas offers a variety of methods for these tasks"
      ],
      "metadata": {
        "id": "0Jw9DiOFCnBm"
      }
    },
    {
      "cell_type": "markdown",
      "source": [
        "#### Changing Data Types"
      ],
      "metadata": {
        "id": "4pC_iniUCnBm"
      }
    },
    {
      "cell_type": "code",
      "source": [
        "df2_deduplicated.info()"
      ],
      "metadata": {
        "execution": {
          "iopub.status.busy": "2023-08-29T09:21:56.603903Z",
          "iopub.execute_input": "2023-08-29T09:21:56.604685Z",
          "iopub.status.idle": "2023-08-29T09:21:56.625639Z",
          "shell.execute_reply.started": "2023-08-29T09:21:56.604635Z",
          "shell.execute_reply": "2023-08-29T09:21:56.624674Z"
        },
        "trusted": true,
        "id": "Ltk4saAmCnBm"
      },
      "execution_count": null,
      "outputs": []
    },
    {
      "cell_type": "code",
      "source": [
        "df2_deduplicated['Age'] = df2_deduplicated['Age'].astype(object)\n",
        "df2_deduplicated.info()"
      ],
      "metadata": {
        "execution": {
          "iopub.status.busy": "2023-08-29T09:22:35.914364Z",
          "iopub.execute_input": "2023-08-29T09:22:35.915009Z",
          "iopub.status.idle": "2023-08-29T09:22:35.929115Z",
          "shell.execute_reply.started": "2023-08-29T09:22:35.914965Z",
          "shell.execute_reply": "2023-08-29T09:22:35.928186Z"
        },
        "trusted": true,
        "id": "CAi6BUiGCnBn"
      },
      "execution_count": null,
      "outputs": []
    },
    {
      "cell_type": "markdown",
      "source": [
        "#### Applying Functions to Columns"
      ],
      "metadata": {
        "id": "4TF4jLNZCnBn"
      }
    },
    {
      "cell_type": "code",
      "source": [
        "data = df2_deduplicated.copy(deep=True)\n",
        "data"
      ],
      "metadata": {
        "execution": {
          "iopub.status.busy": "2023-08-29T09:25:24.024521Z",
          "iopub.execute_input": "2023-08-29T09:25:24.024974Z",
          "iopub.status.idle": "2023-08-29T09:25:24.03886Z",
          "shell.execute_reply.started": "2023-08-29T09:25:24.024936Z",
          "shell.execute_reply": "2023-08-29T09:25:24.03776Z"
        },
        "trusted": true,
        "id": "u3Z10pDMCnBn"
      },
      "execution_count": null,
      "outputs": []
    },
    {
      "cell_type": "code",
      "source": [
        "# Applying a function to a column\n",
        "data['Age'] = data['Age'].apply(lambda x: x + 1)\n",
        "data"
      ],
      "metadata": {
        "execution": {
          "iopub.status.busy": "2023-08-29T09:25:46.164012Z",
          "iopub.execute_input": "2023-08-29T09:25:46.164445Z",
          "iopub.status.idle": "2023-08-29T09:25:46.177177Z",
          "shell.execute_reply.started": "2023-08-29T09:25:46.164406Z",
          "shell.execute_reply": "2023-08-29T09:25:46.176086Z"
        },
        "trusted": true,
        "id": "g_mzA6IwCnBn"
      },
      "execution_count": null,
      "outputs": []
    },
    {
      "cell_type": "markdown",
      "source": [
        "#### Adding a New Column"
      ],
      "metadata": {
        "id": "-EoTaX-GCnBs"
      }
    },
    {
      "cell_type": "code",
      "source": [
        "data['Salary'] = [50000, 60000, 55000, 45000, 62000, 54000]\n",
        "data"
      ],
      "metadata": {
        "execution": {
          "iopub.status.busy": "2023-08-29T09:26:56.429149Z",
          "iopub.execute_input": "2023-08-29T09:26:56.42958Z",
          "iopub.status.idle": "2023-08-29T09:26:56.443456Z",
          "shell.execute_reply.started": "2023-08-29T09:26:56.429545Z",
          "shell.execute_reply": "2023-08-29T09:26:56.44222Z"
        },
        "trusted": true,
        "id": "YyYOkHrCCnBt"
      },
      "execution_count": null,
      "outputs": []
    },
    {
      "cell_type": "markdown",
      "source": [
        "#### Grouping and Aggregation"
      ],
      "metadata": {
        "id": "0HF2SQreCnBt"
      }
    },
    {
      "cell_type": "code",
      "source": [
        "# Grouping by a column and calculating mean\n",
        "grouped = data.groupby('City')['Salary'].mean()\n",
        "grouped"
      ],
      "metadata": {
        "execution": {
          "iopub.status.busy": "2023-08-29T09:27:54.109466Z",
          "iopub.execute_input": "2023-08-29T09:27:54.109888Z",
          "iopub.status.idle": "2023-08-29T09:27:54.12155Z",
          "shell.execute_reply.started": "2023-08-29T09:27:54.109858Z",
          "shell.execute_reply": "2023-08-29T09:27:54.120649Z"
        },
        "trusted": true,
        "id": "95qUffxmCnBt"
      },
      "execution_count": null,
      "outputs": []
    },
    {
      "cell_type": "markdown",
      "source": [
        "#### Sorting Data"
      ],
      "metadata": {
        "id": "PPZr82XpCnBt"
      }
    },
    {
      "cell_type": "code",
      "source": [
        "# Sorting by a column\n",
        "data_sorted = data.sort_values(by='Age', ascending=False)\n",
        "data_sorted"
      ],
      "metadata": {
        "execution": {
          "iopub.status.busy": "2023-08-29T09:28:53.304973Z",
          "iopub.execute_input": "2023-08-29T09:28:53.305651Z",
          "iopub.status.idle": "2023-08-29T09:28:53.319893Z",
          "shell.execute_reply.started": "2023-08-29T09:28:53.305611Z",
          "shell.execute_reply": "2023-08-29T09:28:53.318367Z"
        },
        "trusted": true,
        "id": "BEk740WsCnBv"
      },
      "execution_count": null,
      "outputs": []
    },
    {
      "cell_type": "markdown",
      "source": [
        "## Data Visualization\n",
        "\n",
        "- Data visualization is a powerful way to understand patterns and insights in your data\n",
        "- While Pandas itself doesn't directly create visualizations, it works well with visualization libraries like Matplotlib and Seaborn"
      ],
      "metadata": {
        "id": "ytBlPLvvCnBv"
      }
    },
    {
      "cell_type": "code",
      "source": [
        "import pandas as pd\n",
        "import numpy as np\n",
        "\n",
        "# Creating a dictionary for the dataset\n",
        "data = {\n",
        "    'Name': ['Mukesh', 'Papon', 'Yono', 'Davendra', 'Cube', 'Monica','Mukesh'],\n",
        "    'Age': [28, 30, 28, 22, 27, 23,28],\n",
        "    'Gender': ['M', 'F', 'M', 'M', 'F','M','M'],\n",
        "    'City': ['Gurugram', 'Pune', 'Kochi', 'Houston', 'Singa', 'Citt','Gurugram']\n",
        "}\n",
        "\n",
        "# Creating a DataFrame from the dictionary\n",
        "df = pd.DataFrame(data)\n",
        "df"
      ],
      "metadata": {
        "execution": {
          "iopub.status.busy": "2023-08-29T11:00:50.717239Z",
          "iopub.execute_input": "2023-08-29T11:00:50.717798Z",
          "iopub.status.idle": "2023-08-29T11:00:50.753779Z",
          "shell.execute_reply.started": "2023-08-29T11:00:50.71776Z",
          "shell.execute_reply": "2023-08-29T11:00:50.752465Z"
        },
        "trusted": true,
        "id": "6j2ClanDCnBv"
      },
      "execution_count": null,
      "outputs": []
    },
    {
      "cell_type": "markdown",
      "source": [
        "#### Simple Line Plot"
      ],
      "metadata": {
        "id": "R6gn3L0OCnBv"
      }
    },
    {
      "cell_type": "code",
      "source": [
        "import matplotlib.pyplot as plt\n",
        "\n",
        "df.plot(x='Name', y='Age', kind='line')\n",
        "plt.title('Age Distribution')\n",
        "plt.xlabel('Name')\n",
        "plt.ylabel('Age')\n",
        "plt.show()"
      ],
      "metadata": {
        "execution": {
          "iopub.status.busy": "2023-08-29T11:01:02.871201Z",
          "iopub.execute_input": "2023-08-29T11:01:02.871656Z",
          "iopub.status.idle": "2023-08-29T11:01:03.252364Z",
          "shell.execute_reply.started": "2023-08-29T11:01:02.871624Z",
          "shell.execute_reply": "2023-08-29T11:01:03.251431Z"
        },
        "trusted": true,
        "id": "FLKV7Ck1CnBv"
      },
      "execution_count": null,
      "outputs": []
    },
    {
      "cell_type": "markdown",
      "source": [
        "#### Histogram"
      ],
      "metadata": {
        "id": "2pyzKekjCnBv"
      }
    },
    {
      "cell_type": "code",
      "source": [
        "df['Age'].plot(kind='hist', bins=10)\n",
        "plt.title('Age Histogram')\n",
        "plt.xlabel('Age')\n",
        "plt.ylabel('Frequency')\n",
        "plt.show()"
      ],
      "metadata": {
        "execution": {
          "iopub.status.busy": "2023-08-29T11:01:23.566576Z",
          "iopub.execute_input": "2023-08-29T11:01:23.567006Z",
          "iopub.status.idle": "2023-08-29T11:01:23.904602Z",
          "shell.execute_reply.started": "2023-08-29T11:01:23.566974Z",
          "shell.execute_reply": "2023-08-29T11:01:23.903138Z"
        },
        "trusted": true,
        "id": "DfapmezvCnBv"
      },
      "execution_count": null,
      "outputs": []
    },
    {
      "cell_type": "markdown",
      "source": [
        "## Merging DataFrames\n",
        "\n",
        "When working with data, you often need to combine multiple datasets to perform comprehensive analysis\n",
        "- Pandas provides powerful tools to merge, join, and concatenate DataFrames\n",
        "\n",
        "Concatenation is used when you want to combine DataFrames\n",
        "* vertically or horizontally"
      ],
      "metadata": {
        "id": "LfEKXIwICnBw"
      }
    },
    {
      "cell_type": "markdown",
      "source": [
        "**Concatenating DataFrames**\n",
        "* `Vertical Concatenation`\n",
        "* `Horizontal Concatenation`"
      ],
      "metadata": {
        "id": "_YwhX8ZhCnBw"
      }
    },
    {
      "cell_type": "markdown",
      "source": [
        "#### Vertical Concatenation\n",
        "\n",
        "Suppose you have two DataFrames `df1` and `df2` with the same columns:"
      ],
      "metadata": {
        "id": "Cug-IG4qCnBw"
      }
    },
    {
      "cell_type": "code",
      "source": [
        "df1 = pd.DataFrame({'A': [1, 2, 3], 'B': [4, 5, 6]})\n",
        "df2 = pd.DataFrame({'A': [7, 8, 9], 'B': [10, 11, 12]})\n",
        "\n",
        "print(df1)\n",
        "print(df2)"
      ],
      "metadata": {
        "execution": {
          "iopub.status.busy": "2023-08-29T11:06:12.224741Z",
          "iopub.execute_input": "2023-08-29T11:06:12.22556Z",
          "iopub.status.idle": "2023-08-29T11:06:12.237652Z",
          "shell.execute_reply.started": "2023-08-29T11:06:12.225524Z",
          "shell.execute_reply": "2023-08-29T11:06:12.236373Z"
        },
        "trusted": true,
        "id": "B8JkR2omCnBx"
      },
      "execution_count": null,
      "outputs": []
    },
    {
      "cell_type": "markdown",
      "source": [
        "You can `concatenate them vertically` using concat():"
      ],
      "metadata": {
        "id": "l-vMiFpiCnBx"
      }
    },
    {
      "cell_type": "code",
      "source": [
        "result = pd.concat([df1, df2])\n",
        "print(result)"
      ],
      "metadata": {
        "execution": {
          "iopub.status.busy": "2023-08-29T11:06:49.15835Z",
          "iopub.execute_input": "2023-08-29T11:06:49.15887Z",
          "iopub.status.idle": "2023-08-29T11:06:49.170232Z",
          "shell.execute_reply.started": "2023-08-29T11:06:49.158835Z",
          "shell.execute_reply": "2023-08-29T11:06:49.168565Z"
        },
        "trusted": true,
        "id": "WXw9VET2CnBx"
      },
      "execution_count": null,
      "outputs": []
    },
    {
      "cell_type": "markdown",
      "source": [
        "#### Horizontal Concatenation\n",
        "\n",
        "If you have two DataFrames with different columns and you want to concatenate them horizontally:"
      ],
      "metadata": {
        "id": "x-M-vfJECnBx"
      }
    },
    {
      "cell_type": "code",
      "source": [
        "df1 = pd.DataFrame({'A': [1, 2, 3], 'B': [4, 5, 6]})\n",
        "df2 = pd.DataFrame({'C': [7, 8, 9], 'D': [10, 11, 12]})\n",
        "\n",
        "print(df1)\n",
        "print(df2)"
      ],
      "metadata": {
        "execution": {
          "iopub.status.busy": "2023-08-29T11:07:34.359204Z",
          "iopub.execute_input": "2023-08-29T11:07:34.359717Z",
          "iopub.status.idle": "2023-08-29T11:07:34.372298Z",
          "shell.execute_reply.started": "2023-08-29T11:07:34.359682Z",
          "shell.execute_reply": "2023-08-29T11:07:34.37083Z"
        },
        "trusted": true,
        "id": "_uhUvTRgCnBx"
      },
      "execution_count": null,
      "outputs": []
    },
    {
      "cell_type": "markdown",
      "source": [
        "You can `use concat() with the axis parameter`:"
      ],
      "metadata": {
        "id": "LKsl3u_YCnBx"
      }
    },
    {
      "cell_type": "code",
      "source": [
        "result = pd.concat([df1, df2], axis=1)\n",
        "print(result)"
      ],
      "metadata": {
        "execution": {
          "iopub.status.busy": "2023-08-29T11:08:16.340013Z",
          "iopub.execute_input": "2023-08-29T11:08:16.340489Z",
          "iopub.status.idle": "2023-08-29T11:08:16.349869Z",
          "shell.execute_reply.started": "2023-08-29T11:08:16.340455Z",
          "shell.execute_reply": "2023-08-29T11:08:16.348735Z"
        },
        "trusted": true,
        "id": "3-pLcKXCCnBy"
      },
      "execution_count": null,
      "outputs": []
    },
    {
      "cell_type": "markdown",
      "source": [
        "**Merging DataFrames**\n",
        "\n",
        "Merging is used to combine DataFrames based on a common column or key\n",
        "* `Inner Merge`"
      ],
      "metadata": {
        "id": "xVCz5focCnBy"
      }
    },
    {
      "cell_type": "markdown",
      "source": [
        "#### Inner Merge\n",
        "\n",
        "Consider two DataFrames `left and right`:"
      ],
      "metadata": {
        "id": "1jU0TcRACnBy"
      }
    },
    {
      "cell_type": "code",
      "source": [
        "left = pd.DataFrame({'key': ['A', 'B', 'C'], 'value': [1, 2, 3]})\n",
        "right = pd.DataFrame({'key': ['B', 'C', 'D'], 'value': [4, 5, 6]})\n",
        "\n",
        "print(left)\n",
        "print(right)"
      ],
      "metadata": {
        "execution": {
          "iopub.status.busy": "2023-08-29T11:11:30.885649Z",
          "iopub.execute_input": "2023-08-29T11:11:30.886146Z",
          "iopub.status.idle": "2023-08-29T11:11:30.898462Z",
          "shell.execute_reply.started": "2023-08-29T11:11:30.886113Z",
          "shell.execute_reply": "2023-08-29T11:11:30.897116Z"
        },
        "trusted": true,
        "id": "XiwcLcnyCnBy"
      },
      "execution_count": null,
      "outputs": []
    },
    {
      "cell_type": "markdown",
      "source": [
        "You can perform an inner merge on the `key column`:"
      ],
      "metadata": {
        "id": "P1p-G2_7CnBy"
      }
    },
    {
      "cell_type": "code",
      "source": [
        "merged = pd.merge(left, right, on='key')\n",
        "print(merged)"
      ],
      "metadata": {
        "execution": {
          "iopub.status.busy": "2023-08-29T11:12:02.356093Z",
          "iopub.execute_input": "2023-08-29T11:12:02.356538Z",
          "iopub.status.idle": "2023-08-29T11:12:02.379795Z",
          "shell.execute_reply.started": "2023-08-29T11:12:02.356508Z",
          "shell.execute_reply": "2023-08-29T11:12:02.378187Z"
        },
        "trusted": true,
        "id": "fLxRzYdZCnBy"
      },
      "execution_count": null,
      "outputs": []
    },
    {
      "cell_type": "code",
      "source": [],
      "metadata": {
        "id": "Nyq8i4A6CnBz"
      },
      "execution_count": null,
      "outputs": []
    }
  ]
}