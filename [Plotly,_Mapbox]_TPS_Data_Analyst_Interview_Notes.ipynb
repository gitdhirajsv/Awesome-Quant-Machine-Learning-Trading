{
  "cells": [
    {
      "cell_type": "markdown",
      "metadata": {
        "id": "view-in-github",
        "colab_type": "text"
      },
      "source": [
        "<a href=\"https://colab.research.google.com/github/gitdhirajsv/Awesome-Quant-Machine-Learning-Trading/blob/master/%5BPlotly%2C_Mapbox%5D_TPS_Data_Analyst_Interview_Notes.ipynb\" target=\"_parent\"><img src=\"https://colab.research.google.com/assets/colab-badge.svg\" alt=\"Open In Colab\"/></a>"
      ]
    },
    {
      "source": [
        "# IMPORTANT: RUN THIS CELL IN ORDER TO IMPORT YOUR KAGGLE DATA SOURCES,\n",
        "# THEN FEEL FREE TO DELETE THIS CELL.\n",
        "# NOTE: THIS NOTEBOOK ENVIRONMENT DIFFERS FROM KAGGLE'S PYTHON\n",
        "# ENVIRONMENT SO THERE MAY BE MISSING LIBRARIES USED BY YOUR\n",
        "# NOTEBOOK.\n",
        "import kagglehub\n",
        "jrmistry_tps_toronto_bicycle_thefts_path = kagglehub.dataset_download('jrmistry/tps-toronto-bicycle-thefts')\n",
        "\n",
        "print('Data source import complete.')\n"
      ],
      "metadata": {
        "id": "XqFlbhAwAn6Z"
      },
      "cell_type": "code",
      "outputs": [],
      "execution_count": null
    },
    {
      "metadata": {
        "id": "HC7xFQb0An6a"
      },
      "cell_type": "markdown",
      "source": [
        "# TPS | Data Analyst Job Interview Notes\n",
        "\n",
        "Hello! Last year I had gone to a job interview for a Data Analyst for the [Toronto Police Services Data Analytics Division](http://data.torontopolice.on.ca/pages/data-analytics). One of the rounds of the interview required me to find insights from their Bicycle Thefts dataset. This notebook represents notes that I had made for that interview. This notebook contains a lot of code I wrote for data querying, visualization, and analysis that I found very useful, and I hope you can find it useful as well.\n",
        "\n",
        "\n",
        "If you enjoyed my content, please rememer to upvote the notebook. If you have any questions, feel free to comment below or message me on [LinkedIn](https://www.linkedin.com/in/jaydeep-mistry/)"
      ]
    },
    {
      "metadata": {
        "_uuid": "8f2839f25d086af736a60e9eeb907d3b93b6e0e5",
        "_cell_guid": "b1076dfc-b9ad-4769-8c92-a6c4dae69d19",
        "trusted": true,
        "id": "BnmTHUOPAn6c"
      },
      "cell_type": "code",
      "source": [
        "import numpy as np\n",
        "import pandas as pd\n",
        "import geopandas as gpd\n",
        "\n",
        "import datetime as dt\n",
        "\n",
        "# Input data files are available in the \"../input/\" directory.\n",
        "# For example, running this (by clicking run or pressing Shift+Enter) will list all files under the input directory\n",
        "\n",
        "import os\n",
        "for dirname, _, filenames in os.walk('/kaggle/input'):\n",
        "    for filename in filenames:\n",
        "        print(os.path.join(dirname, filename))"
      ],
      "execution_count": null,
      "outputs": []
    },
    {
      "metadata": {
        "trusted": true,
        "id": "sQCVIytjAn6c"
      },
      "cell_type": "code",
      "source": [
        "df_bicycle_thefts = gpd.read_file(\"/kaggle/input/TPS_Toronto_Bicycle_Thefts.geojson\")"
      ],
      "execution_count": null,
      "outputs": []
    },
    {
      "metadata": {
        "trusted": true,
        "id": "_c9dCk6vAn6d"
      },
      "cell_type": "code",
      "source": [
        "df_bicycle_thefts.info()"
      ],
      "execution_count": null,
      "outputs": []
    },
    {
      "metadata": {
        "trusted": true,
        "id": "FZ4vQGGHAn6d"
      },
      "cell_type": "code",
      "source": [
        "df_bicycle_thefts.sample(3)"
      ],
      "execution_count": null,
      "outputs": []
    },
    {
      "metadata": {
        "id": "J35kcQjEAn6d"
      },
      "cell_type": "markdown",
      "source": [
        "# Data Cleaning"
      ]
    },
    {
      "metadata": {
        "trusted": true,
        "id": "FgDDxeDLAn6e"
      },
      "cell_type": "code",
      "source": [
        "# Convert the cost of bicycles from string representation to a float for numerical analysis\n",
        "\n",
        "def clean_cost(value):\n",
        "    if type(value) == str:\n",
        "        return float(value)\n",
        "    else:\n",
        "        return value\n",
        "\n",
        "df_bicycle_thefts.Cost_of_Bike = df_bicycle_thefts.Cost_of_Bike.apply(clean_cost)"
      ],
      "execution_count": null,
      "outputs": []
    },
    {
      "metadata": {
        "id": "59B8XYENAn6f"
      },
      "cell_type": "markdown",
      "source": [
        "A major issue with this dataset is that the date and time are save as two separate variables. I personally prefer to combine them into one datetime object as shown below."
      ]
    },
    {
      "metadata": {
        "trusted": true,
        "id": "OMYauuBUAn6g"
      },
      "cell_type": "code",
      "source": [
        "\n",
        "\n",
        "df_bicycle_thefts.Occurrence_Date = pd.to_datetime(df_bicycle_thefts.Occurrence_Date)\n",
        "df_bicycle_thefts.Occurrence_Time = pd.to_datetime(df_bicycle_thefts.Occurrence_Time)\n",
        "df_bicycle_thefts['Occurance_DateTime'] = dt.datetime.now()\n",
        "\n",
        "for index, row in df_bicycle_thefts.iterrows():\n",
        "    df_bicycle_thefts.at[index,'Occurance_DateTime'] = dt.datetime(\n",
        "        row['Occurrence_Date'].year,\n",
        "        row['Occurrence_Date'].month,\n",
        "        row['Occurrence_Date'].day,\n",
        "        row['Occurrence_Time'].hour,\n",
        "        row['Occurrence_Time'].minute,\n",
        "        row['Occurrence_Time'].second\n",
        "    )"
      ],
      "execution_count": null,
      "outputs": []
    },
    {
      "metadata": {
        "trusted": true,
        "id": "ljjzxATNAn6h"
      },
      "cell_type": "code",
      "source": [
        "df_bicycle_thefts = df_bicycle_thefts[[\n",
        "    'event_unique_id',\n",
        "    'Primary_Offence',\n",
        "    'Division',\n",
        "    'City',\n",
        "    'Location_Type',\n",
        "    'Bike_Make',\n",
        "    'Bike_Model',\n",
        "    'Bike_Type',\n",
        "    'Bike_Speed',\n",
        "    'Bike_Colour',\n",
        "    'Cost_of_Bike',\n",
        "    'Status',\n",
        "    'Lat',\n",
        "    'Long',\n",
        "    'Occurance_DateTime',\n",
        "]]"
      ],
      "execution_count": null,
      "outputs": []
    },
    {
      "metadata": {
        "id": "4JGFAiqcAn6h"
      },
      "cell_type": "markdown",
      "source": [
        "I prefer to add columns that store the computed values for the dates and time of all rows. This helps keep the code a bit cleaner instead of computing these values for every graph, and reduces the computation required"
      ]
    },
    {
      "metadata": {
        "trusted": true,
        "id": "pcDlhgTDAn6h"
      },
      "cell_type": "code",
      "source": [
        "df_bicycle_thefts['Year'] = df_bicycle_thefts.Occurance_DateTime.apply(lambda x: x.year)\n",
        "df_bicycle_thefts['Month'] = df_bicycle_thefts.Occurance_DateTime.apply(lambda x: x.month)\n",
        "df_bicycle_thefts['Day'] = df_bicycle_thefts.Occurance_DateTime.apply(lambda x: x.day)\n",
        "df_bicycle_thefts['Hour'] = df_bicycle_thefts.Occurance_DateTime.apply(lambda x: x.hour)\n",
        "df_bicycle_thefts['Minute'] = df_bicycle_thefts.Occurance_DateTime.apply(lambda x: x.minute)\n",
        "df_bicycle_thefts['Day_of_week'] = df_bicycle_thefts.Occurance_DateTime.apply(lambda x: x.isoweekday())\n",
        "df_bicycle_thefts['Day_of_year'] = df_bicycle_thefts.Occurance_DateTime.apply(lambda x: x.toordinal() - dt.date(x.year, 1, 1).toordinal() + 1)\n",
        "df_bicycle_thefts['Week_of_year'] = df_bicycle_thefts.Occurance_DateTime.apply(lambda x: x.isocalendar()[1])"
      ],
      "execution_count": null,
      "outputs": []
    },
    {
      "metadata": {
        "trusted": true,
        "id": "bHy39DFJAn6i"
      },
      "cell_type": "code",
      "source": [
        "# The final format of our dataframe\n",
        "\n",
        "df_bicycle_thefts.iloc[0]"
      ],
      "execution_count": null,
      "outputs": []
    },
    {
      "metadata": {
        "id": "Qc1YMYjaAn6i"
      },
      "cell_type": "markdown",
      "source": [
        "# Data Visualization & Analysis"
      ]
    },
    {
      "metadata": {
        "id": "fLTV9npvAn6i"
      },
      "cell_type": "markdown",
      "source": [
        "This section contains graphs followed by insights that I noted for each graph"
      ]
    },
    {
      "metadata": {
        "trusted": true,
        "id": "IvKeHJfSAn6i"
      },
      "cell_type": "code",
      "source": [
        "import plotly.express as px\n",
        "import plotly.graph_objects as go"
      ],
      "execution_count": null,
      "outputs": []
    },
    {
      "metadata": {
        "trusted": true,
        "id": "g1yqpg7qAn6j"
      },
      "cell_type": "code",
      "source": [
        "# making normalize to be True will show the percentage of the total for all traces instead of the tally the proportions\n",
        "df_data = df_bicycle_thefts['Status'].value_counts(normalize = False)\n",
        "\n",
        "fig = px.bar(\n",
        "    data_frame = df_data,\n",
        "    x = df_data.index,\n",
        "    y = df_data\n",
        ")\n",
        "fig.update_layout(\n",
        "    xaxis_title = 'Status of Bicycle Theft',\n",
        "    yaxis_title = 'Proportion of Incidents',\n",
        "    title = 'Proportion of Bicycles Thefts by their Stolen Status'\n",
        ")\n",
        "fig.show()"
      ],
      "execution_count": null,
      "outputs": []
    },
    {
      "metadata": {
        "id": "dAncxv0uAn6j"
      },
      "cell_type": "markdown",
      "source": [
        "Insight: Most stolen bicycles have not been recovered"
      ]
    },
    {
      "metadata": {
        "trusted": true,
        "id": "c1cBHdLjAn6j"
      },
      "cell_type": "code",
      "source": [
        "fig = go.Figure()\n",
        "\n",
        "for status in df_bicycle_thefts.Status.value_counts().sort_index().index:\n",
        "    df_data = df_bicycle_thefts[df_bicycle_thefts.Status == status].Year.value_counts().sort_index()\n",
        "    fig.add_trace(\n",
        "        go.Scatter(\n",
        "            x = df_data.index,\n",
        "            y = df_data,\n",
        "            mode = 'lines+markers',\n",
        "            name = status\n",
        "        )\n",
        "    )\n",
        "\n",
        "fig.update_layout(\n",
        "    xaxis_title = 'Year',\n",
        "    yaxis_title = 'Proportion of Incidents',\n",
        "    title = 'Proportion of Bicycles Thefts in Toronto by Stolen Status and Year',\n",
        "    yaxis_type = 'log'\n",
        ")\n",
        "fig.show()"
      ],
      "execution_count": null,
      "outputs": []
    },
    {
      "metadata": {
        "id": "rkvYvd1PAn6j"
      },
      "cell_type": "markdown",
      "source": [
        "Insight: The number of Bicycle thefts have increased year over year, whereas the number of recovered bicycles has practically remained the same"
      ]
    },
    {
      "metadata": {
        "trusted": true,
        "id": "-B75tPP4An6j"
      },
      "cell_type": "code",
      "source": [
        "df_data = df_bicycle_thefts['Division'].value_counts(normalize = False)\n",
        "\n",
        "fig = px.bar(\n",
        "    data_frame = df_data,\n",
        "    x = df_data.index,\n",
        "    y = df_data,\n",
        ")\n",
        "fig.update_layout(\n",
        "    xaxis_title = 'Division',\n",
        "    yaxis_title = 'Proportion of Incidents',\n",
        "    title = 'Proportion of Bicycles Thefts by the Division in Toronto they were Stolen in',\n",
        "    xaxis_type = 'category'\n",
        ")\n",
        "fig.show()"
      ],
      "execution_count": null,
      "outputs": []
    },
    {
      "metadata": {
        "id": "qof4SmDBAn6j"
      },
      "cell_type": "markdown",
      "source": [
        "Insight: Certain Divisions report significantly more bicycle thefts than others, with a long tail distribution"
      ]
    },
    {
      "metadata": {
        "trusted": true,
        "id": "10ofZTlsAn6j"
      },
      "cell_type": "code",
      "source": [
        "df_data = df_bicycle_thefts['Location_Type'].value_counts(normalize = False).head(12)\n",
        "\n",
        "fig = px.bar(\n",
        "    data_frame = df_data,\n",
        "    x = df_data.index,\n",
        "    y = df_data,\n",
        ")\n",
        "fig.update_layout(\n",
        "    xaxis_title = 'Location Type',\n",
        "    yaxis_title = 'Proportion of Incidents',\n",
        "    title = 'Top 12 Types of Locations for Bicycle Thefts in Toronto',\n",
        "    xaxis_type = 'category'\n",
        ")\n",
        "fig.show()"
      ],
      "execution_count": null,
      "outputs": []
    },
    {
      "metadata": {
        "id": "N-_hEvYjAn6k"
      },
      "cell_type": "markdown",
      "source": [
        "Insight: Roads sides, Appartments, and Homes are where bicycle thefts happen the most"
      ]
    },
    {
      "metadata": {
        "trusted": true,
        "id": "1X5t31_nAn6k"
      },
      "cell_type": "code",
      "source": [
        "df_data = df_bicycle_thefts['Primary_Offence'].value_counts(normalize = False).head(12)\n",
        "\n",
        "fig = px.bar(\n",
        "    data_frame = df_data,\n",
        "    x = df_data.index,\n",
        "    y = df_data,\n",
        ")\n",
        "fig.update_layout(\n",
        "    xaxis_title = 'Offense Type',\n",
        "    yaxis_title = 'Proportion of Incidents',\n",
        "    title = 'Top 12 Types of Offences that involve Bicycle Thefts in Toronto',\n",
        "    xaxis_type = 'category'\n",
        ")\n",
        "fig.show()"
      ],
      "execution_count": null,
      "outputs": []
    },
    {
      "metadata": {
        "id": "z1yJgi5tAn6m"
      },
      "cell_type": "markdown",
      "source": [
        "Insight: Most bicycles stolen are under $ 5,000 price range, and just a bicycle theft, and not a combinaton of other types of offences"
      ]
    },
    {
      "metadata": {
        "trusted": true,
        "id": "dT7XrqI5An6n"
      },
      "cell_type": "code",
      "source": [
        "df_data = df_bicycle_thefts['Bike_Colour'].value_counts(normalize = False).head(12)\n",
        "\n",
        "fig = px.bar(\n",
        "    data_frame = df_data,\n",
        "    x = df_data.index,\n",
        "    y = df_data,\n",
        ")\n",
        "fig.update_layout(\n",
        "    xaxis_title = 'Bicycle Colour',\n",
        "    yaxis_title = 'Proportion of Incidents',\n",
        "    title = 'Top 12 types of Bicycles Colours of Stolen Bicycles',\n",
        "    xaxis_type = 'category'\n",
        ")\n",
        "fig.show()"
      ],
      "execution_count": null,
      "outputs": []
    },
    {
      "metadata": {
        "id": "5O1NhusNAn6n"
      },
      "cell_type": "markdown",
      "source": [
        "Insight: Black is the most common colour of bicycles to be stolen. However, this may just be a reflection of the bicycle industry as a whole as most bicycles made may have a black colour, and not that black bicycles are more likely to be stolen."
      ]
    },
    {
      "metadata": {
        "trusted": true,
        "id": "xgcNrqsYAn6n"
      },
      "cell_type": "code",
      "source": [
        "df_data = df_bicycle_thefts['Year'].value_counts(normalize = False)\n",
        "\n",
        "fig = px.bar(\n",
        "    data_frame = df_data,\n",
        "    x = df_data.index,\n",
        "    y = df_data,\n",
        ")\n",
        "fig.update_layout(\n",
        "    xaxis_title = 'Year',\n",
        "    yaxis_title = 'Proportion of Incidents',\n",
        "    title = 'Proportion of Bicycles Thefts in Toronto by Year',\n",
        ")\n",
        "fig.show()"
      ],
      "execution_count": null,
      "outputs": []
    },
    {
      "metadata": {
        "id": "jFbrB_1EAn6n"
      },
      "cell_type": "markdown",
      "source": [
        "Insight: Number of bicycle thefts are increasing year over year"
      ]
    },
    {
      "metadata": {
        "trusted": true,
        "id": "fikkRpz2An6o"
      },
      "cell_type": "code",
      "source": [
        "months = ['January', 'February', 'March', 'April',\n",
        "          'May', 'June', 'July', 'August',\n",
        "          'September', 'October', 'November', 'December']"
      ],
      "execution_count": null,
      "outputs": []
    },
    {
      "metadata": {
        "trusted": true,
        "id": "pVpjbyUxAn6o"
      },
      "cell_type": "code",
      "source": [
        "df_data = df_bicycle_thefts['Month'].value_counts(normalize = False)\n",
        "\n",
        "fig = px.bar(\n",
        "    data_frame = df_data,\n",
        "    x = df_data.index,\n",
        "    y = df_data,\n",
        ")\n",
        "fig.update_layout(\n",
        "    xaxis_title = 'Month',\n",
        "    yaxis_title = 'Proportion of Incidents',\n",
        "    title = 'Proportion of Bicycles Thefts in Toronto by Month of Year',\n",
        ")\n",
        "fig.update_xaxes(\n",
        "    tickvals = list(range(1,13)),\n",
        "    ticktext = months\n",
        ")\n",
        "fig.show()"
      ],
      "execution_count": null,
      "outputs": []
    },
    {
      "metadata": {
        "trusted": true,
        "id": "5rMgu03CAn6o"
      },
      "cell_type": "code",
      "source": [
        "fig = go.Figure()\n",
        "\n",
        "for year in df_bicycle_thefts.Year.value_counts().sort_index().index:\n",
        "    fig.add_trace(\n",
        "        go.Scatter(\n",
        "            x = df_bicycle_thefts[df_bicycle_thefts.Year == year].Month.value_counts().sort_index().index,\n",
        "            y = df_bicycle_thefts[df_bicycle_thefts.Year == year].Month.value_counts().sort_index(),\n",
        "            mode = 'lines+markers',\n",
        "            name = year\n",
        "        )\n",
        "    )\n",
        "\n",
        "fig.update_layout(\n",
        "    xaxis_title = 'Month',\n",
        "    yaxis_title = 'Proportion of Incidents',\n",
        "    title = 'Proportion of Bicycles Thefts in Toronto by Month of all Years',\n",
        ")\n",
        "fig.update_xaxes(\n",
        "    tickvals = list(range(1,len(months) + 1)),\n",
        "    ticktext = months\n",
        ")\n",
        "fig.show()"
      ],
      "execution_count": null,
      "outputs": []
    },
    {
      "metadata": {
        "id": "C5K6TiGgAn6o"
      },
      "cell_type": "markdown",
      "source": [
        "Insight: Bicycle thefts seen to be increasing in the summer months more than the previous years"
      ]
    },
    {
      "metadata": {
        "trusted": true,
        "id": "aO210c7XAn6p"
      },
      "cell_type": "code",
      "source": [
        "df_data = df_bicycle_thefts['Week_of_year'].value_counts(normalize = False)\n",
        "\n",
        "fig = px.bar(\n",
        "    data_frame = df_data,\n",
        "    x = df_data.index,\n",
        "    y = df_data,\n",
        ")\n",
        "fig.update_layout(\n",
        "    xaxis_title = 'Week of Year',\n",
        "    yaxis_title = 'Proportion of Incidents',\n",
        "    title = 'Proportion of Bicycles Thefts in Toronto by Week of Year',\n",
        ")\n",
        "fig.show()"
      ],
      "execution_count": null,
      "outputs": []
    },
    {
      "metadata": {
        "trusted": true,
        "id": "0n8Q3BB5An6p"
      },
      "cell_type": "code",
      "source": [
        "fig = go.Figure()\n",
        "\n",
        "for year in df_bicycle_thefts.Year.value_counts().sort_index().index:\n",
        "    fig.add_trace(\n",
        "        go.Scatter(\n",
        "            x = df_bicycle_thefts[df_bicycle_thefts.Year == year].Week_of_year.value_counts().sort_index().index,\n",
        "            y = df_bicycle_thefts[df_bicycle_thefts.Year == year].Week_of_year.value_counts().sort_index(),\n",
        "            mode = 'lines+markers',\n",
        "            name = year\n",
        "        )\n",
        "    )\n",
        "\n",
        "fig.update_layout(\n",
        "    xaxis_title = 'Week of Year',\n",
        "    yaxis_title = 'Proportion of Incidents',\n",
        "    title = 'Proportion of Bicycles Thefts in Toronto by Week of Year',\n",
        ")\n",
        "fig.show()"
      ],
      "execution_count": null,
      "outputs": []
    },
    {
      "metadata": {
        "id": "EeUei9TbAn6p"
      },
      "cell_type": "markdown",
      "source": [
        "Insight: Bicycle thefts seem to follow a cyclical pattern where the insidents proportions keep increasing and decreasing periodically over 4 weeks peaks/troughs"
      ]
    },
    {
      "metadata": {
        "trusted": true,
        "id": "qBQsZ-kSAn6p"
      },
      "cell_type": "code",
      "source": [
        "days = ['Monday', 'Tuesday', 'Wednesday', 'Thursday', 'Friday', 'Saturday', 'Sunday']"
      ],
      "execution_count": null,
      "outputs": []
    },
    {
      "metadata": {
        "trusted": true,
        "id": "YkuFw6iJAn6w"
      },
      "cell_type": "code",
      "source": [
        "df_data = df_bicycle_thefts['Day_of_week'].value_counts(normalize = False)\n",
        "\n",
        "fig = px.bar(\n",
        "    data_frame = df_data,\n",
        "    x = df_data.index,\n",
        "    y = df_data,\n",
        ")\n",
        "fig.update_layout(\n",
        "    xaxis_title = 'Day of Week',\n",
        "    yaxis_title = 'Proportion of Incidents',\n",
        "    title = 'Proportion of Bicycles Thefts in Toronto by Day of Week',\n",
        ")\n",
        "fig.update_xaxes(\n",
        "    tickvals = list(range(1,len(days) + 1)),\n",
        "    ticktext = days\n",
        ")\n",
        "fig.show()"
      ],
      "execution_count": null,
      "outputs": []
    },
    {
      "metadata": {
        "trusted": true,
        "id": "3NtGjSKOAn6x"
      },
      "cell_type": "code",
      "source": [
        "fig = go.Figure()\n",
        "\n",
        "for year in df_bicycle_thefts.Year.value_counts().sort_index().index:\n",
        "    fig.add_trace(\n",
        "        go.Scatter(\n",
        "            x = df_bicycle_thefts[df_bicycle_thefts.Year == year].Day_of_week.value_counts().sort_index().index,\n",
        "            y = df_bicycle_thefts[df_bicycle_thefts.Year == year].Day_of_week.value_counts().sort_index(),\n",
        "            mode = 'lines+markers',\n",
        "            name = year\n",
        "        )\n",
        "    )\n",
        "\n",
        "fig.update_layout(\n",
        "    xaxis_title = 'Day of Week',\n",
        "    yaxis_title = 'Proportion of Incidents',\n",
        "    title = 'Proportion of Bicycles Thefts in Toronto by Day of Week',\n",
        ")\n",
        "fig.update_xaxes(\n",
        "    tickvals = list(range(1,len(days) + 1)),\n",
        "    ticktext = days\n",
        ")\n",
        "fig.show()"
      ],
      "execution_count": null,
      "outputs": []
    },
    {
      "metadata": {
        "id": "-ZZYyvLOAn6x"
      },
      "cell_type": "markdown",
      "source": [
        "Insight: Over the years the number of bicycle thefts have shifted from being stolen on Fridays, to now the middle of the week Wednedays/Thursdays"
      ]
    },
    {
      "metadata": {
        "trusted": true,
        "id": "llvU_QGrAn6x"
      },
      "cell_type": "code",
      "source": [
        "df_data = df_bicycle_thefts['Hour'].value_counts(normalize = False)\n",
        "\n",
        "fig = px.bar(\n",
        "    data_frame = df_data,\n",
        "    x = df_data.index,\n",
        "    y = df_data,\n",
        ")\n",
        "fig.update_layout(\n",
        "    xaxis_title = 'Hour (24 hours)',\n",
        "    yaxis_title = 'Proportion of Incidents',\n",
        "    title = 'Proportion of Bicycles Thefts in Toronto by Hour of Day',\n",
        ")\n",
        "fig.show()"
      ],
      "execution_count": null,
      "outputs": []
    },
    {
      "metadata": {
        "trusted": true,
        "id": "IHa0lDr1An6y"
      },
      "cell_type": "code",
      "source": [
        "fig = go.Figure()\n",
        "\n",
        "for year in df_bicycle_thefts.Year.value_counts().sort_index().index:\n",
        "    fig.add_trace(\n",
        "        go.Scatter(\n",
        "            x = df_bicycle_thefts[df_bicycle_thefts.Year == year].Hour.value_counts().sort_index().index,\n",
        "            y = df_bicycle_thefts[df_bicycle_thefts.Year == year].Hour.value_counts().sort_index(),\n",
        "            mode = 'lines+markers',\n",
        "            name = year\n",
        "        )\n",
        "    )\n",
        "\n",
        "fig.update_layout(\n",
        "    xaxis_title = 'Hour (24 hours)',\n",
        "    yaxis_title = 'Proportion of Incidents',\n",
        "    title = 'Proportion of Bicycles Thefts in Toronto by Hour of Day',\n",
        ")\n",
        "fig.show()"
      ],
      "execution_count": null,
      "outputs": []
    },
    {
      "metadata": {
        "id": "US7gXldPAn6y"
      },
      "cell_type": "markdown",
      "source": [
        "Insight: Bicycle thefts seem to be happen most during 9am, 12noon, and 4pm rush hours. This may be a reflection of when the bicycle thefts are reported, and not necessarily when the incidents happen. People who have their bicycle's stolen may be going to or leaving work, and that is when they discover their bicycle is stolen and report the crime, however the crime itself may be happening just before those peak hours."
      ]
    },
    {
      "metadata": {
        "trusted": true,
        "id": "WXeWHZgnAn6y"
      },
      "cell_type": "code",
      "source": [
        "fig = go.Figure(\n",
        "    data = go.Scatterpolar(\n",
        "        r = df_bicycle_thefts.Hour.value_counts().sort_index(),\n",
        "        theta = df_bicycle_thefts.Hour.apply(lambda x: str(x).zfill(2) + ' Hr').value_counts().sort_index().index,\n",
        "        fill = 'toself',\n",
        "    )\n",
        ")\n",
        "\n",
        "fig.update_layout(\n",
        "    title = 'Proportion of Bicycles Thefts in Toronto by Hour of Day',\n",
        "    showlegend = False,\n",
        "    polar = dict(\n",
        "        radialaxis = dict(\n",
        "            visible = True,\n",
        "            angle = 90,\n",
        "        ),\n",
        "        angularaxis = dict(\n",
        "            rotation = -90,\n",
        "            direction = 'clockwise'\n",
        "        )\n",
        "    )\n",
        ")\n",
        "\n",
        "fig.show()"
      ],
      "execution_count": null,
      "outputs": []
    },
    {
      "metadata": {
        "id": "CkOPuXZMAn6y"
      },
      "cell_type": "markdown",
      "source": [
        "Insight: Bicycle thefts have shifted to happen moreso over weekdays during working hours of 9am to 4pm"
      ]
    },
    {
      "metadata": {
        "trusted": true,
        "id": "t-0kEbAFAn6y"
      },
      "cell_type": "code",
      "source": [
        "df_data = pd.pivot_table(\n",
        "    df_bicycle_thefts,\n",
        "    values = 'Day',\n",
        "    index = 'Year',\n",
        "    columns = 'Month',\n",
        "    aggfunc = len\n",
        ")\n",
        "\n",
        "#fig = px.imshow(df_data)\n",
        "fig = go.Figure(\n",
        "    data = go.Heatmap(\n",
        "        z = df_data,\n",
        "        x = df_data.columns.map(lambda x: months[x-1]),\n",
        "        y = df_data.index,\n",
        "    )\n",
        ")\n",
        "fig.update_layout(\n",
        "    xaxis_title = 'Months',\n",
        "    yaxis_title = 'Proportion of Incidents',\n",
        "    title = 'Heatmap of Bicycles Thefts in Toronto by Month and Year',\n",
        ")\n",
        "fig.show()"
      ],
      "execution_count": null,
      "outputs": []
    },
    {
      "metadata": {
        "trusted": true,
        "id": "Dw4dwBA_An6z"
      },
      "cell_type": "code",
      "source": [
        "df_data = pd.pivot_table(\n",
        "    df_bicycle_thefts,\n",
        "    values = 'Day',\n",
        "    index = 'Year',\n",
        "    columns = 'Day_of_week',\n",
        "    aggfunc = len\n",
        ")\n",
        "\n",
        "#fig = px.imshow(df_data)\n",
        "fig = go.Figure(\n",
        "    data = go.Heatmap(\n",
        "        z = df_data,\n",
        "        x = df_data.columns.map(lambda x: days[x-1]),\n",
        "        y = df_data.index,\n",
        "    )\n",
        ")\n",
        "fig.update_layout(\n",
        "    xaxis_title = 'Weekday',\n",
        "    yaxis_title = 'Proportion of Incidents',\n",
        "    title = 'Heatmap of Bicycles Thefts in Toronto by Weekday and Year',\n",
        ")\n",
        "fig.show()"
      ],
      "execution_count": null,
      "outputs": []
    },
    {
      "metadata": {
        "trusted": true,
        "id": "PCKvESL7An6z"
      },
      "cell_type": "code",
      "source": [
        "df_data = pd.pivot_table(\n",
        "    df_bicycle_thefts,\n",
        "    values = 'Day',\n",
        "    index = 'Month',\n",
        "    columns = 'Day_of_week',\n",
        "    aggfunc = len\n",
        ")\n",
        "\n",
        "#fig = px.imshow(df_data)\n",
        "fig = go.Figure(\n",
        "    data = go.Heatmap(\n",
        "        z = df_data,\n",
        "        x = df_data.columns.map(lambda x: days[x-1]),\n",
        "        y = df_data.index.map(lambda x: months[x-1]),\n",
        "    )\n",
        ")\n",
        "fig.update_layout(\n",
        "    xaxis_title = 'Weekday',\n",
        "    yaxis_title = 'Proportion of Incidents',\n",
        "    title = 'Heatmap of Bicycles Thefts in Toronto by Weekday and Month',\n",
        ")\n",
        "fig.show()"
      ],
      "execution_count": null,
      "outputs": []
    },
    {
      "metadata": {
        "trusted": true,
        "id": "2AVe5ZqMAn6z"
      },
      "cell_type": "code",
      "source": [
        "df_data = pd.pivot_table(\n",
        "    df_bicycle_thefts,\n",
        "    values = 'Day',\n",
        "    index = 'Year',\n",
        "    columns = 'Hour',\n",
        "    aggfunc = len\n",
        ")\n",
        "\n",
        "#fig = px.imshow(df_data)\n",
        "fig = go.Figure(\n",
        "    data = go.Heatmap(\n",
        "        z = df_data,\n",
        "        x = df_data.columns,\n",
        "        y = df_data.index,\n",
        "    )\n",
        ")\n",
        "fig.update_layout(\n",
        "    xaxis_title = 'Hour (24 hours)',\n",
        "    yaxis_title = 'Proportion of Incidents',\n",
        "    title = 'Heatmap of Bicycles Thefts in Toronto by Hour of day and Year',\n",
        ")\n",
        "fig.show()"
      ],
      "execution_count": null,
      "outputs": []
    },
    {
      "metadata": {
        "trusted": true,
        "id": "SKOeaGZWAn60"
      },
      "cell_type": "code",
      "source": [
        "df_data = pd.pivot_table(\n",
        "    df_bicycle_thefts,\n",
        "    values = 'Day',\n",
        "    index = 'Month',\n",
        "    columns = 'Hour',\n",
        "    aggfunc = len\n",
        ")\n",
        "\n",
        "#fig = px.imshow(df_data)\n",
        "fig = go.Figure(\n",
        "    data = go.Heatmap(\n",
        "        z = df_data,\n",
        "        x = df_data.columns,\n",
        "        y = df_data.index.map(lambda x: months[x-1]),\n",
        "    )\n",
        ")\n",
        "fig.update_layout(\n",
        "    xaxis_title = 'Hour (24 hours)',\n",
        "    yaxis_title = 'Proportion of Incidents',\n",
        "    title = 'Heatmap of Bicycles Thefts in Toronto by Hour of Day and Month',\n",
        ")\n",
        "fig.show()"
      ],
      "execution_count": null,
      "outputs": []
    },
    {
      "metadata": {
        "trusted": true,
        "id": "EYnxzlfAAn60"
      },
      "cell_type": "code",
      "source": [
        "df_data = pd.pivot_table(\n",
        "    df_bicycle_thefts,\n",
        "    values = 'Day',\n",
        "    index = 'Day_of_week',\n",
        "    columns = 'Hour',\n",
        "    aggfunc = len\n",
        ")\n",
        "\n",
        "#fig = px.imshow(df_data)\n",
        "fig = go.Figure(\n",
        "    data = go.Heatmap(\n",
        "        z = df_data,\n",
        "        x = df_data.columns,\n",
        "        y = df_data.index.map(lambda x: days[x-1]),\n",
        "    )\n",
        ")\n",
        "fig.update_layout(\n",
        "    xaxis_title = 'Hour (24 hours)',\n",
        "    yaxis_title = 'Proportion of Incidents',\n",
        "    title = 'Heatmap of Bicycles Thefts in Toronto by Hour of Day and Weekday',\n",
        ")\n",
        "fig.show()"
      ],
      "execution_count": null,
      "outputs": []
    },
    {
      "metadata": {
        "trusted": true,
        "id": "m2r3cbMlAn61"
      },
      "cell_type": "code",
      "source": [
        "df_bicycle_thefts.iloc[0]"
      ],
      "execution_count": null,
      "outputs": []
    },
    {
      "metadata": {
        "id": "IAJVD9PMAn61"
      },
      "cell_type": "markdown",
      "source": [
        "## free map styles:\n",
        "* white-bg\n",
        "* open-street-map\n",
        "* carto-positron\n",
        "* carto-darkmatter\n",
        "* stamen-terrain\n",
        "* stamen-toner\n",
        "* stamen-watercolor"
      ]
    },
    {
      "metadata": {
        "trusted": true,
        "id": "qMLcwX43An61"
      },
      "cell_type": "code",
      "source": [
        "fig = px.scatter_mapbox(\n",
        "    data_frame = df_bicycle_thefts[df_bicycle_thefts.Cost_of_Bike.notnull()],\n",
        "    lat = 'Lat',\n",
        "    lon = 'Long',\n",
        "    color = 'Status',\n",
        "    size = 'Cost_of_Bike',\n",
        ")\n",
        "fig.update_layout(\n",
        "    title = \"Map of Bicycle Theft incidents by Stolen Status\",\n",
        "    mapbox_style = \"carto-darkmatter\"\n",
        ")\n",
        "fig.show()"
      ],
      "execution_count": null,
      "outputs": []
    },
    {
      "metadata": {
        "trusted": true,
        "id": "wV2NQkkYAn62"
      },
      "cell_type": "code",
      "source": [
        "fig = px.scatter_mapbox(\n",
        "    data_frame = df_bicycle_thefts[df_bicycle_thefts.Cost_of_Bike.notnull()],\n",
        "    lat = 'Lat',\n",
        "    lon = 'Long',\n",
        "    color = 'Primary_Offence',\n",
        "    size = 'Cost_of_Bike',\n",
        ")\n",
        "fig.update_layout(\n",
        "    title = \"Map of Bicycle Theft incidents by their Primary Offence\",\n",
        "    mapbox_style=\"carto-darkmatter\"\n",
        ")\n",
        "fig.show()"
      ],
      "execution_count": null,
      "outputs": []
    },
    {
      "metadata": {
        "trusted": true,
        "id": "IFJspuaXAn62"
      },
      "cell_type": "code",
      "source": [
        "fig = px.scatter_mapbox(\n",
        "    data_frame = df_bicycle_thefts[df_bicycle_thefts.Cost_of_Bike.notnull()],\n",
        "    lat = 'Lat',\n",
        "    lon = 'Long',\n",
        "    color = 'Location_Type',\n",
        "    size = 'Cost_of_Bike',\n",
        ")\n",
        "fig.update_layout(\n",
        "    title = \"Map of Bicycle Theft incidents by their Type of Location\",\n",
        "    mapbox_style = \"carto-darkmatter\"\n",
        ")\n",
        "fig.show()"
      ],
      "execution_count": null,
      "outputs": []
    },
    {
      "metadata": {
        "id": "5oPdslCUAn62"
      },
      "cell_type": "markdown",
      "source": [
        "If you enjoyed my content, please rememer to upvote the notebook. If you have any questions, feel free to comment below or message me on [LinkedIn](https://www.linkedin.com/in/jaydeep-mistry/)"
      ]
    }
  ],
  "metadata": {
    "kernelspec": {
      "language": "python",
      "display_name": "Python 3",
      "name": "python3"
    },
    "language_info": {
      "pygments_lexer": "ipython3",
      "nbconvert_exporter": "python",
      "version": "3.6.4",
      "file_extension": ".py",
      "codemirror_mode": {
        "name": "ipython",
        "version": 3
      },
      "name": "python",
      "mimetype": "text/x-python"
    },
    "colab": {
      "name": "[Plotly, Mapbox] TPS Data Analyst Interview Notes",
      "provenance": [],
      "include_colab_link": true
    }
  },
  "nbformat": 4,
  "nbformat_minor": 0
}